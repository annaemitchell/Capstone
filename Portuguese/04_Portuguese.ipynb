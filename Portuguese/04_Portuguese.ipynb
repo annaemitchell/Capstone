{
 "cells": [
  {
   "cell_type": "markdown",
   "metadata": {},
   "source": [
    "## Neural Machine Translation\n",
    "### English to Portuguese  "
   ]
  },
  {
   "cell_type": "code",
   "execution_count": 1,
   "metadata": {},
   "outputs": [],
   "source": [
    "import collections\n",
    "import numpy as np\n",
    "import pandas as pd\n",
    "\n",
    "import string\n",
    "import re\n",
    "from pickle import dump\n",
    "from unicodedata import normalize\n",
    "from numpy import array\n",
    "import tensorflow as tf\n",
    "from keras.preprocessing.text import Tokenizer\n",
    "import matplotlib.pyplot as plt\n",
    "import warnings\n",
    "warnings.filterwarnings(\"ignore\")"
   ]
  },
  {
   "cell_type": "code",
   "execution_count": 2,
   "metadata": {},
   "outputs": [],
   "source": [
    "from pickle import load\n",
    "from numpy import array\n",
    "from keras.preprocessing.text import Tokenizer\n",
    "from keras.preprocessing.sequence import pad_sequences\n",
    "from keras.utils import to_categorical\n",
    "from keras.utils.vis_utils import plot_model\n",
    "from keras.models import Sequential\n",
    "from keras.layers import LSTM\n",
    "from keras.layers import Dense\n",
    "from keras.layers import Embedding\n",
    "from keras.layers import RepeatVector\n",
    "from keras.layers import TimeDistributed\n",
    "from keras.callbacks import ModelCheckpoint"
   ]
  },
  {
   "cell_type": "code",
   "execution_count": 3,
   "metadata": {},
   "outputs": [],
   "source": [
    "from numpy import argmax\n",
    "from keras.preprocessing.text import Tokenizer\n",
    "from keras.preprocessing.sequence import pad_sequences\n",
    "from keras.models import load_model\n",
    "from nltk.translate.bleu_score import corpus_bleu"
   ]
  },
  {
   "cell_type": "markdown",
   "metadata": {},
   "source": [
    "#### Sources"
   ]
  },
  {
   "cell_type": "code",
   "execution_count": 2,
   "metadata": {},
   "outputs": [],
   "source": [
    "#Code help and adaption for this project come from the following resources:\n",
    "\n",
    "#https://www.analyticsvidhya.com/blog/2019/01/neural-machine-translation-keras/\n",
    "#https://towardsdatascience.com/neural-machine-translation-with-python-c2f0a34f7dd\n",
    "#https://www.tensorflow.org/tutorials/text/nmt_with_attention\n",
    "#https://stackabuse.com/python-for-nlp-neural-machine-translation-with-seq2seq-in-keras/\n",
    "#https://google.github.io/seq2seq/nmt/\n",
    "#https://opennmt.net/\n",
    "#https://stackoverflow.com/questions/tagged/machine-translation"
   ]
  },
  {
   "cell_type": "markdown",
   "metadata": {},
   "source": [
    "### Clean Text"
   ]
  },
  {
   "cell_type": "code",
   "execution_count": 15,
   "metadata": {},
   "outputs": [],
   "source": [
    "# load doc into memory\n",
    "# load data to preserve unicode characters, loads file as a blob of text\n",
    "def load_doc(filename):\n",
    "    # open the file as read only\n",
    "    file = open(filename, mode='rt', encoding='utf-8')\n",
    "    # read all text\n",
    "    text = file.read()\n",
    "    # close the file\n",
    "    file.close()\n",
    "    return text"
   ]
  },
  {
   "cell_type": "code",
   "execution_count": 16,
   "metadata": {},
   "outputs": [],
   "source": [
    "# split a loaded document into sentences\n",
    "def pairs(doc):\n",
    "    lines = doc.strip().split('\\n')\n",
    "    pairs = [line.split('\\t') for line in  lines]\n",
    "    return pairs"
   ]
  },
  {
   "cell_type": "code",
   "execution_count": 17,
   "metadata": {},
   "outputs": [],
   "source": [
    "# clean a list of lines\n",
    "# remove non printable characters\n",
    "# remove all punctuation characters\n",
    "# normalize all unicode characters to ASCII\n",
    "#normalize the case to lower\n",
    "#remove any remaining tokens that are not alphabetic \n",
    "#perform these operations on each phrase for each pair in the loaded dataset.\n",
    "\n",
    "def clean_pairs(lines):\n",
    "    cleaned = list()\n",
    "    # prepare regex for char filtering\n",
    "    re_print = re.compile('[^%s]' % re.escape(string.printable))\n",
    "    # prepare translation table for removing punctuation\n",
    "    table = str.maketrans('', '', string.punctuation)\n",
    "    for pair in lines:\n",
    "        clean_pair = list()\n",
    "        for line in pair:\n",
    "            # normalize unicode characters\n",
    "            line = normalize('NFD', line).encode('ascii', 'ignore')\n",
    "            line = line.decode('UTF-8')\n",
    "            # tokenize on white space\n",
    "            line = line.split()\n",
    "            # convert to lowercase\n",
    "            line = [word.lower() for word in line]\n",
    "            # remove punctuation from each token\n",
    "            line = [word.translate(table) for word in line]\n",
    "            # remove non-printable chars form each token\n",
    "            line = [re_print.sub('', w) for w in line]\n",
    "            # remove tokens with numbers in them\n",
    "            line = [word for word in line if word.isalpha()]\n",
    "            # store as string\n",
    "            clean_pair.append(' '.join(line))\n",
    "        cleaned.append(clean_pair)\n",
    "    return array(cleaned)"
   ]
  },
  {
   "cell_type": "code",
   "execution_count": 18,
   "metadata": {},
   "outputs": [],
   "source": [
    "# save a list of clean sentences to file\n",
    "def clean_data(sentences, filename):\n",
    "    dump(sentences, open(filename, 'wb'))\n",
    "    print('Saved: %s' % filename)"
   ]
  },
  {
   "cell_type": "code",
   "execution_count": 19,
   "metadata": {},
   "outputs": [
    {
     "name": "stdout",
     "output_type": "stream",
     "text": [
      "Saved: english-port.pkl\n"
     ]
    }
   ],
   "source": [
    "# load dataset\n",
    "filename = 'port.txt'\n",
    "doc = load_doc(filename)\n",
    "# split into english-port pairs\n",
    "pairs = pairs(doc)\n",
    "# clean sentences\n",
    "clean_pairs = clean_pairs(pairs)\n",
    "# save clean pairs to file\n",
    "clean_data(clean_pairs, 'english-port.pkl')"
   ]
  },
  {
   "cell_type": "code",
   "execution_count": 12,
   "metadata": {},
   "outputs": [
    {
     "name": "stdout",
     "output_type": "stream",
     "text": [
      "[go] => [vai]\n",
      "[go] => [va]\n",
      "[go] => [ir]\n",
      "[hi] => [oi]\n",
      "[run] => [corre]\n",
      "[run] => [corra]\n",
      "[run] => [corram]\n",
      "[run] => [corre]\n",
      "[run] => [corra]\n",
      "[run] => [corram]\n",
      "[who] => [quem]\n",
      "[who] => [que]\n",
      "[wow] => [uau]\n",
      "[wow] => [nossa]\n",
      "[wow] => [wow]\n",
      "[fire] => [fogo]\n",
      "[fire] => [incendio]\n",
      "[fire] => [chama]\n",
      "[help] => [ajuda]\n",
      "[help] => [socorro]\n",
      "[jump] => [pule]\n",
      "[jump] => [pula]\n",
      "[jump] => [pulem]\n",
      "[jump] => [pule]\n",
      "[jump] => [pulam]\n",
      "[stop] => [pare]\n",
      "[stop] => [parem]\n",
      "[stop] => [parada]\n",
      "[stop] => [ponto]\n",
      "[stop] => [para]\n",
      "[wait] => [espere]\n",
      "[wait] => [aguarde]\n",
      "[wait] => [espere]\n",
      "[wait] => [esperem]\n",
      "[go on] => [siga em frente]\n",
      "[go on] => [va]\n",
      "[go on] => [continue]\n",
      "[go on] => [siga adiante]\n",
      "[hello] => [oi]\n",
      "[hello] => [alo]\n",
      "[hello] => [ola]\n",
      "[hello] => [alo]\n",
      "[i ran] => [eu corri]\n",
      "[i see] => [eu sei]\n",
      "[i see] => [eu entendo]\n",
      "[i see] => [estou vendo]\n",
      "[i see] => [eu vejo]\n",
      "[i see] => [eu assisto]\n",
      "[i try] => [eu tento]\n",
      "[i try] => [tento]\n"
     ]
    }
   ],
   "source": [
    "# check if working\n",
    "for i in range(50):\n",
    "    print('[%s] => [%s]' % (clean_pairs[i,0], clean_pairs[i,1]))"
   ]
  },
  {
   "cell_type": "markdown",
   "metadata": {},
   "source": [
    "### Split Text"
   ]
  },
  {
   "cell_type": "code",
   "execution_count": 20,
   "metadata": {},
   "outputs": [
    {
     "name": "stdout",
     "output_type": "stream",
     "text": [
      "Saved: english-port-both.pkl\n",
      "Saved: english-port-train.pkl\n",
      "Saved: english-port-test.pkl\n"
     ]
    }
   ],
   "source": [
    "from pickle import load\n",
    "from pickle import dump\n",
    "from numpy.random import rand\n",
    "from numpy.random import shuffle\n",
    "\n",
    "# load a clean dataset\n",
    "def load_clean_sentences(filename):\n",
    "    return load(open(filename, 'rb'))\n",
    "\n",
    "# save a list of clean sentences to file\n",
    "def clean_data(sentences, filename):\n",
    "    dump(sentences, open(filename, 'wb'))\n",
    "    print('Saved: %s' % filename)\n",
    "\n",
    "# load dataset\n",
    "raw_dataset = load_clean_sentences('english-port.pkl')\n",
    "\n",
    "# reduce dataset size\n",
    "n_sentences = 10000\n",
    "dataset = raw_dataset[:n_sentences, :]\n",
    "# random shuffle\n",
    "shuffle(dataset)\n",
    "# split into train/test\n",
    "train, test = dataset[:9000], dataset[9000:]\n",
    "# save\n",
    "clean_data(dataset, 'english-port-both.pkl')\n",
    "clean_data(train, 'english-port-train.pkl')\n",
    "clean_data(test, 'english-port-test.pkl')\n",
    "\n",
    "#both.pkl - contains all of the train and test examples that we can use to \n",
    "#-> define the parameters of the problem, such a smax phrase lengths and the vocab\n",
    "# train.pkl and test.pkl - train and test dataset "
   ]
  },
  {
   "cell_type": "markdown",
   "metadata": {},
   "source": [
    "#### Text to Sequence Conversion"
   ]
  },
  {
   "cell_type": "code",
   "execution_count": 21,
   "metadata": {},
   "outputs": [],
   "source": [
    "# function to read raw text file\n",
    "def read_text(filename):\n",
    "    # open the file\n",
    "    file = open(filename, mode='rt', encoding='utf-8')\n",
    "    # read all text\n",
    "    text = file.read()\n",
    "    file.close()\n",
    "    return text"
   ]
  },
  {
   "cell_type": "code",
   "execution_count": 22,
   "metadata": {},
   "outputs": [],
   "source": [
    "# split a text into sentences\n",
    "def to_lines(text):\n",
    "    sents = text.strip().split('\\n')\n",
    "    sents = [i.split('\\t') for i in sents]\n",
    "    return sents"
   ]
  },
  {
   "cell_type": "code",
   "execution_count": 24,
   "metadata": {},
   "outputs": [],
   "source": [
    "data = read_text(\"port.txt\")\n",
    "port_eng = to_lines(data)\n",
    "port_eng = array(port_eng)"
   ]
  },
  {
   "cell_type": "code",
   "execution_count": 25,
   "metadata": {},
   "outputs": [],
   "source": [
    "port_eng = port_eng[:50000,:]"
   ]
  },
  {
   "cell_type": "code",
   "execution_count": 26,
   "metadata": {},
   "outputs": [],
   "source": [
    "# Remove punctuation\n",
    "port_eng[:,0] = [s.translate(str.maketrans('', '', string.punctuation)) for s in port_eng[:,0]]\n",
    "port_eng[:,1] = [s.translate(str.maketrans('', '', string.punctuation)) for s in port_eng[:,1]]"
   ]
  },
  {
   "cell_type": "code",
   "execution_count": 27,
   "metadata": {},
   "outputs": [],
   "source": [
    "# convert to lowercase\n",
    "for i in range(len(port_eng)):\n",
    "    port_eng[i,0] = port_eng[i,0].lower()\n",
    "    \n",
    "    port_eng[i,1] = port_eng[i,1].lower()"
   ]
  },
  {
   "cell_type": "code",
   "execution_count": 28,
   "metadata": {},
   "outputs": [],
   "source": [
    "# empty lists\n",
    "eng_l = []\n",
    "port_l = []\n",
    "\n",
    "# populate the lists with sentence lengths\n",
    "for i in port_eng[:,0]:\n",
    "    port_l.append(len(i.split()))\n",
    "\n",
    "for i in port_eng[:,1]:\n",
    "    port_l.append(len(i.split()))"
   ]
  },
  {
   "cell_type": "code",
   "execution_count": 30,
   "metadata": {},
   "outputs": [],
   "source": [
    "#length_df = pd.DataFrame({'english':eng_l, 'portuguese':port_l})"
   ]
  },
  {
   "cell_type": "code",
   "execution_count": 31,
   "metadata": {},
   "outputs": [],
   "source": [
    "# function to build a tokenizer\n",
    "def tokenization(lines):\n",
    "    tokenizer = Tokenizer()\n",
    "    tokenizer.fit_on_texts(lines)\n",
    "    return tokenizer"
   ]
  },
  {
   "cell_type": "code",
   "execution_count": 32,
   "metadata": {},
   "outputs": [
    {
     "name": "stdout",
     "output_type": "stream",
     "text": [
      "English Vocabulary Size: 12772\n"
     ]
    }
   ],
   "source": [
    "# english tokenizer\n",
    "eng_tokenizer = tokenization(port_eng[:, 0])\n",
    "eng_vocab_size = len(eng_tokenizer.word_index) + 1\n",
    "\n",
    "eng_length = 8\n",
    "print('English Vocabulary Size: %d' % eng_vocab_size)"
   ]
  },
  {
   "cell_type": "code",
   "execution_count": 33,
   "metadata": {},
   "outputs": [
    {
     "name": "stdout",
     "output_type": "stream",
     "text": [
      "Portuguese Vocabulary Size: 10067\n"
     ]
    }
   ],
   "source": [
    "# Port tokenizer\n",
    "port_tokenizer = tokenization(port_eng[:, 1])\n",
    "port_vocab_size = len(port_tokenizer.word_index) + 1\n",
    "\n",
    "port_length = 8\n",
    "print('Portuguese Vocabulary Size: %d' % port_vocab_size)"
   ]
  },
  {
   "cell_type": "markdown",
   "metadata": {},
   "source": [
    "### Train Neural Translation Model"
   ]
  },
  {
   "cell_type": "code",
   "execution_count": 34,
   "metadata": {},
   "outputs": [],
   "source": [
    "#develop neural translation model\n",
    "#load and prepare clean text data ready for modeling and define and train the model\n",
    "#-> on the prepared data "
   ]
  },
  {
   "cell_type": "code",
   "execution_count": 1,
   "metadata": {},
   "outputs": [],
   "source": [
    "#code adapted from https://medium.com/@umerfarooq_26378/neural-machine-translation-with-code-68c425044bbd"
   ]
  },
  {
   "cell_type": "code",
   "execution_count": 37,
   "metadata": {},
   "outputs": [
    {
     "name": "stdout",
     "output_type": "stream",
     "text": [
      "English Vocabulary Size: 2083\n",
      "English Max Length: 5\n",
      "Portuguese Vocabulary Size: 3688\n",
      "Portuguese Max Length: 8\n",
      "Model: \"sequential\"\n",
      "_________________________________________________________________\n",
      "Layer (type)                 Output Shape              Param #   \n",
      "=================================================================\n",
      "embedding (Embedding)        (None, 8, 256)            944128    \n",
      "_________________________________________________________________\n",
      "lstm (LSTM)                  (None, 256)               525312    \n",
      "_________________________________________________________________\n",
      "repeat_vector (RepeatVector) (None, 5, 256)            0         \n",
      "_________________________________________________________________\n",
      "lstm_1 (LSTM)                (None, 5, 256)            525312    \n",
      "_________________________________________________________________\n",
      "time_distributed (TimeDistri (None, 5, 2083)           535331    \n",
      "=================================================================\n",
      "Total params: 2,530,083\n",
      "Trainable params: 2,530,083\n",
      "Non-trainable params: 0\n",
      "_________________________________________________________________\n",
      "None\n",
      "Epoch 1/30\n",
      "\n",
      "Epoch 00001: val_loss improved from inf to 3.38988, saving model to model.h5\n",
      "141/141 - 8s - loss: 4.1567 - val_loss: 3.3899\n",
      "Epoch 2/30\n",
      "\n",
      "Epoch 00002: val_loss improved from 3.38988 to 3.22910, saving model to model.h5\n",
      "141/141 - 7s - loss: 3.1909 - val_loss: 3.2291\n",
      "Epoch 3/30\n",
      "\n",
      "Epoch 00003: val_loss improved from 3.22910 to 3.14352, saving model to model.h5\n",
      "141/141 - 7s - loss: 3.0436 - val_loss: 3.1435\n",
      "Epoch 4/30\n",
      "\n",
      "Epoch 00004: val_loss improved from 3.14352 to 3.06381, saving model to model.h5\n",
      "141/141 - 7s - loss: 2.9273 - val_loss: 3.0638\n",
      "Epoch 5/30\n",
      "\n",
      "Epoch 00005: val_loss improved from 3.06381 to 2.96425, saving model to model.h5\n",
      "141/141 - 7s - loss: 2.8126 - val_loss: 2.9643\n",
      "Epoch 6/30\n",
      "\n",
      "Epoch 00006: val_loss improved from 2.96425 to 2.84735, saving model to model.h5\n",
      "141/141 - 7s - loss: 2.6740 - val_loss: 2.8473\n",
      "Epoch 7/30\n",
      "\n",
      "Epoch 00007: val_loss improved from 2.84735 to 2.70942, saving model to model.h5\n",
      "141/141 - 7s - loss: 2.4940 - val_loss: 2.7094\n",
      "Epoch 8/30\n",
      "\n",
      "Epoch 00008: val_loss improved from 2.70942 to 2.58181, saving model to model.h5\n",
      "141/141 - 7s - loss: 2.3173 - val_loss: 2.5818\n",
      "Epoch 9/30\n",
      "\n",
      "Epoch 00009: val_loss improved from 2.58181 to 2.46957, saving model to model.h5\n",
      "141/141 - 7s - loss: 2.1587 - val_loss: 2.4696\n",
      "Epoch 10/30\n",
      "\n",
      "Epoch 00010: val_loss improved from 2.46957 to 2.37449, saving model to model.h5\n",
      "141/141 - 7s - loss: 2.0080 - val_loss: 2.3745\n",
      "Epoch 11/30\n",
      "\n",
      "Epoch 00011: val_loss improved from 2.37449 to 2.29065, saving model to model.h5\n",
      "141/141 - 7s - loss: 1.8734 - val_loss: 2.2906\n",
      "Epoch 12/30\n",
      "\n",
      "Epoch 00012: val_loss improved from 2.29065 to 2.21220, saving model to model.h5\n",
      "141/141 - 7s - loss: 1.7442 - val_loss: 2.2122\n",
      "Epoch 13/30\n",
      "\n",
      "Epoch 00013: val_loss improved from 2.21220 to 2.14870, saving model to model.h5\n",
      "141/141 - 7s - loss: 1.6256 - val_loss: 2.1487\n",
      "Epoch 14/30\n",
      "\n",
      "Epoch 00014: val_loss improved from 2.14870 to 2.08511, saving model to model.h5\n",
      "141/141 - 8s - loss: 1.5108 - val_loss: 2.0851\n",
      "Epoch 15/30\n",
      "\n",
      "Epoch 00015: val_loss improved from 2.08511 to 2.04456, saving model to model.h5\n",
      "141/141 - 7s - loss: 1.4049 - val_loss: 2.0446\n",
      "Epoch 16/30\n",
      "\n",
      "Epoch 00016: val_loss improved from 2.04456 to 2.00136, saving model to model.h5\n",
      "141/141 - 7s - loss: 1.3059 - val_loss: 2.0014\n",
      "Epoch 17/30\n",
      "\n",
      "Epoch 00017: val_loss improved from 2.00136 to 1.94933, saving model to model.h5\n",
      "141/141 - 7s - loss: 1.2092 - val_loss: 1.9493\n",
      "Epoch 18/30\n",
      "\n",
      "Epoch 00018: val_loss improved from 1.94933 to 1.92729, saving model to model.h5\n",
      "141/141 - 7s - loss: 1.1195 - val_loss: 1.9273\n",
      "Epoch 19/30\n",
      "\n",
      "Epoch 00019: val_loss improved from 1.92729 to 1.89694, saving model to model.h5\n",
      "141/141 - 7s - loss: 1.0311 - val_loss: 1.8969\n",
      "Epoch 20/30\n",
      "\n",
      "Epoch 00020: val_loss improved from 1.89694 to 1.87743, saving model to model.h5\n",
      "141/141 - 8s - loss: 0.9515 - val_loss: 1.8774\n",
      "Epoch 21/30\n",
      "\n",
      "Epoch 00021: val_loss improved from 1.87743 to 1.84648, saving model to model.h5\n",
      "141/141 - 7s - loss: 0.8762 - val_loss: 1.8465\n",
      "Epoch 22/30\n",
      "\n",
      "Epoch 00022: val_loss improved from 1.84648 to 1.81888, saving model to model.h5\n",
      "141/141 - 7s - loss: 0.8046 - val_loss: 1.8189\n",
      "Epoch 23/30\n",
      "\n",
      "Epoch 00023: val_loss improved from 1.81888 to 1.80446, saving model to model.h5\n",
      "141/141 - 7s - loss: 0.7377 - val_loss: 1.8045\n",
      "Epoch 24/30\n",
      "\n",
      "Epoch 00024: val_loss improved from 1.80446 to 1.79648, saving model to model.h5\n",
      "141/141 - 7s - loss: 0.6797 - val_loss: 1.7965\n",
      "Epoch 25/30\n",
      "\n",
      "Epoch 00025: val_loss improved from 1.79648 to 1.78125, saving model to model.h5\n",
      "141/141 - 7s - loss: 0.6228 - val_loss: 1.7812\n",
      "Epoch 26/30\n",
      "\n",
      "Epoch 00026: val_loss improved from 1.78125 to 1.75018, saving model to model.h5\n",
      "141/141 - 7s - loss: 0.5725 - val_loss: 1.7502\n",
      "Epoch 27/30\n",
      "\n",
      "Epoch 00027: val_loss improved from 1.75018 to 1.74656, saving model to model.h5\n",
      "141/141 - 7s - loss: 0.5251 - val_loss: 1.7466\n",
      "Epoch 28/30\n",
      "\n",
      "Epoch 00028: val_loss did not improve from 1.74656\n",
      "141/141 - 7s - loss: 0.4838 - val_loss: 1.7519\n",
      "Epoch 29/30\n",
      "\n",
      "Epoch 00029: val_loss improved from 1.74656 to 1.73264, saving model to model.h5\n",
      "141/141 - 7s - loss: 0.4459 - val_loss: 1.7326\n",
      "Epoch 30/30\n",
      "\n",
      "Epoch 00030: val_loss improved from 1.73264 to 1.72758, saving model to model.h5\n",
      "141/141 - 7s - loss: 0.4107 - val_loss: 1.7276\n"
     ]
    }
   ],
   "source": [
    "# load a clean dataset\n",
    "def load_clean_sentences(filename):\n",
    "    return load(open(filename, 'rb'))\n",
    " \n",
    "# fit a tokenizer\n",
    "def create_tokenizer(lines):\n",
    "    tokenizer = Tokenizer()\n",
    "    tokenizer.fit_on_texts(lines)\n",
    "    return tokenizer\n",
    " \n",
    "# max sentence length\n",
    "def max_length(lines):\n",
    "    return max(len(line.split()) for line in lines)\n",
    " \n",
    "# encode and pad sequences\n",
    "def encode_sequences(tokenizer, length, lines):\n",
    "    # integer encode sequences\n",
    "    X = tokenizer.texts_to_sequences(lines)\n",
    "    # pad sequences with 0 values\n",
    "    X = pad_sequences(X, maxlen=length, padding='post')\n",
    "    return X\n",
    " \n",
    "# one hot encode target sequence\n",
    "def encode_output(sequences, vocab_size):\n",
    "    ylist = list()\n",
    "    for sequence in sequences:\n",
    "        encoded = to_categorical(sequence, num_classes=vocab_size)\n",
    "        ylist.append(encoded)\n",
    "    y = array(ylist)\n",
    "    y = y.reshape(sequences.shape[0], sequences.shape[1], vocab_size)\n",
    "    return y\n",
    " \n",
    "# define NMT model\n",
    "def define_model(src_vocab, tar_vocab, src_timesteps, tar_timesteps, n_units):\n",
    "    model = Sequential()\n",
    "    model.add(Embedding(src_vocab, n_units, input_length=src_timesteps, mask_zero=True))\n",
    "    model.add(LSTM(n_units))\n",
    "    model.add(RepeatVector(tar_timesteps))\n",
    "    model.add(LSTM(n_units, return_sequences=True))\n",
    "    model.add(TimeDistributed(Dense(tar_vocab, activation='softmax')))\n",
    "    return model\n",
    " \n",
    "# load datasets\n",
    "dataset = load_clean_sentences('english-port-both.pkl')\n",
    "train = load_clean_sentences('english-port-train.pkl')\n",
    "test = load_clean_sentences('english-port-test.pkl')\n",
    " \n",
    "# prepare english tokenizer\n",
    "eng_tokenizer = create_tokenizer(dataset[:, 0])\n",
    "eng_vocab_size = len(eng_tokenizer.word_index) + 1\n",
    "eng_length = max_length(dataset[:, 0])\n",
    "print('English Vocabulary Size: %d' % eng_vocab_size)\n",
    "print('English Max Length: %d' % (eng_length))\n",
    "# prepare port tokenizer\n",
    "port_tokenizer = create_tokenizer(dataset[:, 1])\n",
    "port_vocab_size = len(port_tokenizer.word_index) + 1\n",
    "port_length = max_length(dataset[:, 1])\n",
    "print('Portuguese Vocabulary Size: %d' % port_vocab_size)\n",
    "print('Portuguese Max Length: %d' % (port_length))\n",
    " \n",
    "# prepare training data\n",
    "trainX = encode_sequences(port_tokenizer, port_length, train[:, 1])\n",
    "trainY = encode_sequences(eng_tokenizer, eng_length, train[:, 0])\n",
    "trainY = encode_output(trainY, eng_vocab_size)\n",
    "# prepare validation data\n",
    "testX = encode_sequences(port_tokenizer, port_length, test[:, 1])\n",
    "testY = encode_sequences(eng_tokenizer, eng_length, test[:, 0])\n",
    "testY = encode_output(testY, eng_vocab_size)\n",
    " \n",
    "# define model\n",
    "model = define_model(port_vocab_size, eng_vocab_size, port_length, eng_length, 256)\n",
    "model.compile(optimizer='adam', loss='categorical_crossentropy')\n",
    "# summarize defined model\n",
    "print(model.summary())\n",
    "#plot_model(model, to_file='model.png', show_shapes=True)\n",
    "\n",
    "# fit model\n",
    "filename = 'model.h5'\n",
    "checkpoint = ModelCheckpoint(filename, monitor='val_loss', verbose=1, save_best_only=True, mode='min')\n",
    "history = model.fit(trainX, trainY, epochs=30, batch_size=64, validation_data=(testX, testY), callbacks=[checkpoint], verbose=2)"
   ]
  },
  {
   "cell_type": "code",
   "execution_count": 38,
   "metadata": {},
   "outputs": [
    {
     "data": {
      "image/png": "[encoded data removed]",
      "text/plain": [
       "<Figure size 432x288 with 1 Axes>"
      ]
     },
     "metadata": {
      "needs_background": "light"
     },
     "output_type": "display_data"
    }
   ],
   "source": [
    "#Let's compare the training loss and the validation loss.\n",
    "plt.plot(history.history['loss'])\n",
    "plt.plot(history.history['val_loss'])\n",
    "plt.legend(['train','validation'])\n",
    "plt.show()"
   ]
  },
  {
   "cell_type": "markdown",
   "metadata": {},
   "source": [
    "### Evaluate Neural Translation Model"
   ]
  },
  {
   "cell_type": "code",
   "execution_count": 39,
   "metadata": {},
   "outputs": [],
   "source": [
    "# load datasets\n",
    "dataset = load_clean_sentences('english-port-both.pkl')\n",
    "train = load_clean_sentences('english-port-train.pkl')\n",
    "test = load_clean_sentences('english-port-test.pkl')"
   ]
  },
  {
   "cell_type": "code",
   "execution_count": 40,
   "metadata": {},
   "outputs": [],
   "source": [
    "# prepare english tokenizer\n",
    "eng_tokenizer = create_tokenizer(dataset[:, 0])\n",
    "eng_vocab_size = len(eng_tokenizer.word_index) + 1\n",
    "eng_length = max_length(dataset[:, 0])"
   ]
  },
  {
   "cell_type": "code",
   "execution_count": 61,
   "metadata": {},
   "outputs": [],
   "source": [
    "# prepare port tokenizer\n",
    "port_tokenizer = create_tokenizer(dataset[:, 1])\n",
    "port_vocab_size = len(port_tokenizer.word_index) + 1\n",
    "port_length = max_length(dataset[:, 1])"
   ]
  },
  {
   "cell_type": "code",
   "execution_count": 42,
   "metadata": {},
   "outputs": [],
   "source": [
    "# prepare data\n",
    "trainX = encode_sequences(port_tokenizer, port_length, train[:, 1])\n",
    "testX = encode_sequences(port_tokenizer, port_length, test[:, 1])"
   ]
  },
  {
   "cell_type": "markdown",
   "metadata": {},
   "source": [
    "### Save my NN model to YAML"
   ]
  },
  {
   "cell_type": "code",
   "execution_count": 2,
   "metadata": {},
   "outputs": [],
   "source": [
    "#code help from https://towardsdatascience.com/saving-and-loading-keras-model-42195b92f57a"
   ]
  },
  {
   "cell_type": "code",
   "execution_count": 43,
   "metadata": {},
   "outputs": [],
   "source": [
    "from keras.models import model_from_yaml\n",
    "import os"
   ]
  },
  {
   "cell_type": "code",
   "execution_count": 44,
   "metadata": {},
   "outputs": [
    {
     "data": {
      "text/plain": [
       "0.3503669798374176"
      ]
     },
     "execution_count": 44,
     "metadata": {},
     "output_type": "execute_result"
    }
   ],
   "source": [
    "scores = model.evaluate(trainX, trainY, verbose=0)\n",
    "scores"
   ]
  },
  {
   "cell_type": "code",
   "execution_count": 45,
   "metadata": {},
   "outputs": [],
   "source": [
    "# serialize model to YAML\n",
    "model_yaml = model.to_yaml()\n",
    "with open(\"model.yaml\", \"w\") as yaml_file:\n",
    "    yaml_file.write(model_yaml)"
   ]
  },
  {
   "cell_type": "code",
   "execution_count": 46,
   "metadata": {},
   "outputs": [],
   "source": [
    "# load YAML and create model\n",
    "yaml_file = open('model.yaml', 'r')\n",
    "loaded_model_yaml = yaml_file.read()\n",
    "yaml_file.close()\n",
    "loaded_model = model_from_yaml(loaded_model_yaml)"
   ]
  },
  {
   "cell_type": "code",
   "execution_count": 47,
   "metadata": {},
   "outputs": [
    {
     "name": "stdout",
     "output_type": "stream",
     "text": [
      "Loaded model from disk\n"
     ]
    }
   ],
   "source": [
    "# load weights into new model\n",
    "loaded_model.load_weights(\"model.h5\")\n",
    "print(\"Loaded model from disk\")"
   ]
  },
  {
   "cell_type": "code",
   "execution_count": 48,
   "metadata": {},
   "outputs": [
    {
     "name": "stdout",
     "output_type": "stream",
     "text": [
      "accuracy: 91.84%\n"
     ]
    }
   ],
   "source": [
    "# evaluate loaded model on test data\n",
    "loaded_model.compile(loss='binary_crossentropy', optimizer='rmsprop', metrics=['accuracy'])\n",
    "score = loaded_model.evaluate(trainX, trainY, verbose=0)\n",
    "print(\"%s: %.2f%%\" % (loaded_model.metrics_names[1], score[1]*100))"
   ]
  },
  {
   "cell_type": "code",
   "execution_count": 49,
   "metadata": {},
   "outputs": [
    {
     "name": "stdout",
     "output_type": "stream",
     "text": [
      "Saved model to disk\n"
     ]
    }
   ],
   "source": [
    "#save model and architecture to single file\n",
    "model.save(\"model.h5\")\n",
    "print(\"Saved model to disk\")"
   ]
  },
  {
   "cell_type": "code",
   "execution_count": 50,
   "metadata": {},
   "outputs": [],
   "source": [
    "# load model\n",
    "model = load_model('model.h5')"
   ]
  },
  {
   "cell_type": "code",
   "execution_count": 51,
   "metadata": {},
   "outputs": [],
   "source": [
    "#Next repeat this for each source phrase in a dataset and \n",
    "#-> compare the predicted result to the expected target phrase in English."
   ]
  },
  {
   "cell_type": "code",
   "execution_count": 3,
   "metadata": {},
   "outputs": [],
   "source": [
    "#code help from #https://www.analyticsvidhya.com/blog/2019/01/neural-machine-translation-keras/"
   ]
  },
  {
   "cell_type": "code",
   "execution_count": 52,
   "metadata": {},
   "outputs": [
    {
     "name": "stdout",
     "output_type": "stream",
     "text": [
      "train\n",
      "src=[isso nao funcionara], target=[it wont work], predicted=[it wont work]\n",
      "src=[eu gostei de tom], target=[i liked tom], predicted=[i liked tom]\n",
      "src=[eles confiam em tom], target=[they trust tom], predicted=[they trust tom]\n",
      "src=[dirija rapido], target=[drive faster], predicted=[drive faster]\n",
      "src=[eu sou cego], target=[im blind], predicted=[im blind]\n",
      "src=[quem tem], target=[who has it], predicted=[who has it]\n",
      "src=[para de atirar], target=[stop shooting], predicted=[stop shooting]\n",
      "src=[tom nos avisou], target=[tom warned us], predicted=[tom warned us]\n",
      "src=[gosto muito do tom], target=[i do like tom], predicted=[i do like tom]\n",
      "src=[eles encontraram], target=[they found it], predicted=[they found it]\n",
      "BLEU-1: 0.878581\n",
      "BLEU-2: 0.824619\n",
      "BLEU-3: 0.722266\n",
      "BLEU-4: 0.404552\n",
      "test\n",
      "src=[chame a seguranca], target=[call security], predicted=[call security]\n",
      "src=[tentao], target=[try it], predicted=[take happens]\n",
      "src=[e mesmo], target=[is that so], predicted=[its]\n",
      "src=[eu gosto de costurar], target=[i like sewing], predicted=[i like apples]\n",
      "src=[estou muito cansado], target=[im very tired], predicted=[im very tired]\n",
      "src=[eu vou te processar], target=[ill sue you], predicted=[i will sue you]\n",
      "src=[eu vou voltar], target=[ill go back], predicted=[i will return]\n",
      "src=[vamos dancar], target=[shall we dance], predicted=[well dance]\n",
      "src=[eu sou diabetico], target=[im a diabetic], predicted=[im diabetic]\n",
      "src=[eu nao vou morder], target=[i wont bite], predicted=[i wont bite]\n",
      "BLEU-1: 0.578231\n",
      "BLEU-2: 0.462546\n",
      "BLEU-3: 0.383442\n",
      "BLEU-4: 0.190543\n"
     ]
    }
   ],
   "source": [
    "# load a clean dataset\n",
    "def load_clean_sentences(filename):\n",
    "    return load(open(filename, 'rb'))\n",
    "\n",
    "# fit a tokenizer\n",
    "def create_tokenizer(lines):\n",
    "    tokenizer = Tokenizer()\n",
    "    tokenizer.fit_on_texts(lines)\n",
    "    return tokenizer\n",
    " \n",
    "# max sentence length\n",
    "def max_length(lines):\n",
    "    return max(len(line.split()) for line in lines)\n",
    " \n",
    "# encode and pad sequences\n",
    "def encode_sequences(tokenizer, length, lines):\n",
    "    # integer encode sequences\n",
    "    X = tokenizer.texts_to_sequences(lines)\n",
    "    # pad sequences with 0 values\n",
    "    X = pad_sequences(X, maxlen=length, padding='post')\n",
    "    return X\n",
    " \n",
    "# map an integer to a word\n",
    "def word_for_id(integer, tokenizer):\n",
    "    for word, index in tokenizer.word_index.items():\n",
    "        if index == integer:\n",
    "            return word\n",
    "    return None\n",
    " \n",
    "# generate target given source sequence\n",
    "def predict_sequence(model, tokenizer, source):\n",
    "    prediction = model.predict(source, verbose=0)[0]\n",
    "    integers = [argmax(vector) for vector in prediction]\n",
    "    target = list()\n",
    "    for i in integers:\n",
    "        word = word_for_id(i, tokenizer)\n",
    "        if word is None:\n",
    "            break\n",
    "        target.append(word)\n",
    "    return ' '.join(target)\n",
    " \n",
    "# evaluate the skill of the model\n",
    "def evaluate_model(model, tokenizer, sources, raw_dataset):\n",
    "    actual, predicted = list(), list()\n",
    "    for i, source in enumerate(sources):\n",
    "        # translate encoded source text\n",
    "        source = source.reshape((1, source.shape[0]))\n",
    "        translation = predict_sequence(model, eng_tokenizer, source)\n",
    "        raw_target, raw_src = raw_dataset[i]\n",
    "        if i < 10:\n",
    "            print('src=[%s], target=[%s], predicted=[%s]' % (raw_src, raw_target, translation))\n",
    "        actual.append([raw_target.split()])\n",
    "        predicted.append(translation.split())\n",
    "    # calculate BLEU score\n",
    "    print('BLEU-1: %f' % corpus_bleu(actual, predicted, weights=(1.0, 0, 0, 0)))\n",
    "    print('BLEU-2: %f' % corpus_bleu(actual, predicted, weights=(0.5, 0.5, 0, 0)))\n",
    "    print('BLEU-3: %f' % corpus_bleu(actual, predicted, weights=(0.3, 0.3, 0.3, 0)))\n",
    "    print('BLEU-4: %f' % corpus_bleu(actual, predicted, weights=(0.25, 0.25, 0.25, 0.25)))\n",
    " \n",
    "# load datasets\n",
    "dataset = load_clean_sentences('english-port-both.pkl')\n",
    "train = load_clean_sentences('english-port-train.pkl')\n",
    "test = load_clean_sentences('english-port-test.pkl')\n",
    "# prepare english tokenizer\n",
    "eng_tokenizer = create_tokenizer(dataset[:, 0])\n",
    "eng_vocab_size = len(eng_tokenizer.word_index) + 1\n",
    "eng_length = max_length(dataset[:, 0])\n",
    "# prepare port tokenizer\n",
    "port_tokenizer = create_tokenizer(dataset[:, 1])\n",
    "port_vocab_size = len(port_tokenizer.word_index) + 1\n",
    "port_length = max_length(dataset[:, 1])\n",
    "# prepare data\n",
    "trainX = encode_sequences(port_tokenizer, port_length, train[:, 1])\n",
    "testX = encode_sequences(port_tokenizer, port_length, test[:, 1])\n",
    " \n",
    "# load model\n",
    "model = load_model('model.h5')\n",
    "# test on some training sequences\n",
    "print('train')\n",
    "evaluate_model(model, eng_tokenizer, trainX, train)\n",
    "# test on some test sequences\n",
    "print('test')\n",
    "evaluate_model(model, eng_tokenizer, testX, test)"
   ]
  },
  {
   "cell_type": "markdown",
   "metadata": {},
   "source": [
    "### Make Predictions on unseen data"
   ]
  },
  {
   "cell_type": "code",
   "execution_count": 4,
   "metadata": {},
   "outputs": [],
   "source": [
    "#code help from https://stackabuse.com/python-for-nlp-neural-machine-translation-with-seq2seq-in-keras/"
   ]
  },
  {
   "cell_type": "code",
   "execution_count": 54,
   "metadata": {},
   "outputs": [],
   "source": [
    "model = load_model('model.h5')\n",
    "preds = model.predict_classes(testX.reshape((testX.shape[0],testX.shape[1])))"
   ]
  },
  {
   "cell_type": "code",
   "execution_count": 55,
   "metadata": {},
   "outputs": [],
   "source": [
    "def get_word(n, tokenizer):\n",
    "    for word, index in tokenizer.word_index.items():\n",
    "        if index == n:\n",
    "            return word\n",
    "    return None"
   ]
  },
  {
   "cell_type": "code",
   "execution_count": 56,
   "metadata": {},
   "outputs": [],
   "source": [
    "# convert predictions into text (English)\n",
    "preds_text = []\n",
    "for i in preds:\n",
    "    temp = []\n",
    "    for j in range(len(i)):\n",
    "        t = get_word(i[j], eng_tokenizer)\n",
    "        if j > 0:\n",
    "            if (t == get_word(i[j-1], eng_tokenizer)) or (t == None):\n",
    "                temp.append('')\n",
    "            else:\n",
    "                temp.append(t)\n",
    "             \n",
    "        else:\n",
    "            if(t == None):\n",
    "                temp.append('')\n",
    "            else:\n",
    "                temp.append(t)            \n",
    "        \n",
    "    preds_text.append(' '.join(temp))"
   ]
  },
  {
   "cell_type": "code",
   "execution_count": 57,
   "metadata": {},
   "outputs": [],
   "source": [
    "pred_df = pd.DataFrame({'actual' : test[:,0], 'predicted' : preds_text})"
   ]
  },
  {
   "cell_type": "code",
   "execution_count": 58,
   "metadata": {},
   "outputs": [],
   "source": [
    "pd.set_option('display.max_colwidth', 200)"
   ]
  },
  {
   "cell_type": "code",
   "execution_count": 59,
   "metadata": {},
   "outputs": [
    {
     "data": {
      "text/html": [
       "<div>\n",
       "<style scoped>\n",
       "    .dataframe tbody tr th:only-of-type {\n",
       "        vertical-align: middle;\n",
       "    }\n",
       "\n",
       "    .dataframe tbody tr th {\n",
       "        vertical-align: top;\n",
       "    }\n",
       "\n",
       "    .dataframe thead th {\n",
       "        text-align: right;\n",
       "    }\n",
       "</style>\n",
       "<table border=\"1\" class=\"dataframe\">\n",
       "  <thead>\n",
       "    <tr style=\"text-align: right;\">\n",
       "      <th></th>\n",
       "      <th>actual</th>\n",
       "      <th>predicted</th>\n",
       "    </tr>\n",
       "  </thead>\n",
       "  <tbody>\n",
       "    <tr>\n",
       "      <th>0</th>\n",
       "      <td>call security</td>\n",
       "      <td>call security</td>\n",
       "    </tr>\n",
       "    <tr>\n",
       "      <th>1</th>\n",
       "      <td>try it</td>\n",
       "      <td>take happens</td>\n",
       "    </tr>\n",
       "    <tr>\n",
       "      <th>2</th>\n",
       "      <td>is that so</td>\n",
       "      <td>its</td>\n",
       "    </tr>\n",
       "    <tr>\n",
       "      <th>3</th>\n",
       "      <td>i like sewing</td>\n",
       "      <td>i like apples</td>\n",
       "    </tr>\n",
       "    <tr>\n",
       "      <th>4</th>\n",
       "      <td>im very tired</td>\n",
       "      <td>im very tired</td>\n",
       "    </tr>\n",
       "    <tr>\n",
       "      <th>5</th>\n",
       "      <td>ill sue you</td>\n",
       "      <td>i will sue you</td>\n",
       "    </tr>\n",
       "    <tr>\n",
       "      <th>6</th>\n",
       "      <td>ill go back</td>\n",
       "      <td>i will return</td>\n",
       "    </tr>\n",
       "    <tr>\n",
       "      <th>7</th>\n",
       "      <td>shall we dance</td>\n",
       "      <td>well dance</td>\n",
       "    </tr>\n",
       "    <tr>\n",
       "      <th>8</th>\n",
       "      <td>im a diabetic</td>\n",
       "      <td>im diabetic</td>\n",
       "    </tr>\n",
       "    <tr>\n",
       "      <th>9</th>\n",
       "      <td>i wont bite</td>\n",
       "      <td>i wont bite</td>\n",
       "    </tr>\n",
       "    <tr>\n",
       "      <th>10</th>\n",
       "      <td>i drink coffee</td>\n",
       "      <td>i drink coffee</td>\n",
       "    </tr>\n",
       "    <tr>\n",
       "      <th>11</th>\n",
       "      <td>tom loves that</td>\n",
       "      <td>tom likes it</td>\n",
       "    </tr>\n",
       "    <tr>\n",
       "      <th>12</th>\n",
       "      <td>tom likes mary</td>\n",
       "      <td>tom likes mary</td>\n",
       "    </tr>\n",
       "    <tr>\n",
       "      <th>13</th>\n",
       "      <td>ill do it now</td>\n",
       "      <td>ill pay this</td>\n",
       "    </tr>\n",
       "    <tr>\n",
       "      <th>14</th>\n",
       "      <td>i got promoted</td>\n",
       "      <td>i was angry</td>\n",
       "    </tr>\n",
       "  </tbody>\n",
       "</table>\n",
       "</div>"
      ],
      "text/plain": [
       "            actual         predicted\n",
       "0    call security  call security   \n",
       "1           try it   take happens   \n",
       "2       is that so           its    \n",
       "3    i like sewing   i like apples  \n",
       "4    im very tired   im very tired  \n",
       "5      ill sue you   i will sue you \n",
       "6      ill go back   i will return  \n",
       "7   shall we dance     well dance   \n",
       "8    im a diabetic    im diabetic   \n",
       "9      i wont bite     i wont bite  \n",
       "10  i drink coffee  i drink coffee  \n",
       "11  tom loves that    tom likes it  \n",
       "12  tom likes mary  tom likes mary  \n",
       "13   ill do it now    ill pay this  \n",
       "14  i got promoted     i was angry  "
      ]
     },
     "execution_count": 59,
     "metadata": {},
     "output_type": "execute_result"
    }
   ],
   "source": [
    "pred_df.head(15)"
   ]
  },
  {
   "cell_type": "code",
   "execution_count": 60,
   "metadata": {},
   "outputs": [
    {
     "data": {
      "text/html": [
       "<div>\n",
       "<style scoped>\n",
       "    .dataframe tbody tr th:only-of-type {\n",
       "        vertical-align: middle;\n",
       "    }\n",
       "\n",
       "    .dataframe tbody tr th {\n",
       "        vertical-align: top;\n",
       "    }\n",
       "\n",
       "    .dataframe thead th {\n",
       "        text-align: right;\n",
       "    }\n",
       "</style>\n",
       "<table border=\"1\" class=\"dataframe\">\n",
       "  <thead>\n",
       "    <tr style=\"text-align: right;\">\n",
       "      <th></th>\n",
       "      <th>actual</th>\n",
       "      <th>predicted</th>\n",
       "    </tr>\n",
       "  </thead>\n",
       "  <tbody>\n",
       "    <tr>\n",
       "      <th>147</th>\n",
       "      <td>tom won</td>\n",
       "      <td>tom won</td>\n",
       "    </tr>\n",
       "    <tr>\n",
       "      <th>681</th>\n",
       "      <td>i said id go</td>\n",
       "      <td>i said go</td>\n",
       "    </tr>\n",
       "    <tr>\n",
       "      <th>182</th>\n",
       "      <td>someone called</td>\n",
       "      <td>get up</td>\n",
       "    </tr>\n",
       "    <tr>\n",
       "      <th>632</th>\n",
       "      <td>well fight</td>\n",
       "      <td>we care</td>\n",
       "    </tr>\n",
       "    <tr>\n",
       "      <th>559</th>\n",
       "      <td>no one came</td>\n",
       "      <td>nobody came</td>\n",
       "    </tr>\n",
       "    <tr>\n",
       "      <th>812</th>\n",
       "      <td>im curious</td>\n",
       "      <td>i am curious</td>\n",
       "    </tr>\n",
       "    <tr>\n",
       "      <th>793</th>\n",
       "      <td>tom has to pay</td>\n",
       "      <td>tom has a</td>\n",
       "    </tr>\n",
       "    <tr>\n",
       "      <th>605</th>\n",
       "      <td>i keep a dog</td>\n",
       "      <td>i have a dog</td>\n",
       "    </tr>\n",
       "    <tr>\n",
       "      <th>628</th>\n",
       "      <td>no ones here</td>\n",
       "      <td>its not here</td>\n",
       "    </tr>\n",
       "    <tr>\n",
       "      <th>802</th>\n",
       "      <td>tom knows</td>\n",
       "      <td>tom  try</td>\n",
       "    </tr>\n",
       "    <tr>\n",
       "      <th>835</th>\n",
       "      <td>they were weak</td>\n",
       "      <td>they were weak</td>\n",
       "    </tr>\n",
       "    <tr>\n",
       "      <th>92</th>\n",
       "      <td>help me</td>\n",
       "      <td>help me</td>\n",
       "    </tr>\n",
       "    <tr>\n",
       "      <th>820</th>\n",
       "      <td>go away</td>\n",
       "      <td>get out</td>\n",
       "    </tr>\n",
       "    <tr>\n",
       "      <th>294</th>\n",
       "      <td>it was a bet</td>\n",
       "      <td>it was a sale</td>\n",
       "    </tr>\n",
       "    <tr>\n",
       "      <th>364</th>\n",
       "      <td>where are you</td>\n",
       "      <td>are  you</td>\n",
       "    </tr>\n",
       "  </tbody>\n",
       "</table>\n",
       "</div>"
      ],
      "text/plain": [
       "             actual         predicted\n",
       "147         tom won        tom won   \n",
       "681    i said id go       i said go  \n",
       "182  someone called         get up   \n",
       "632      well fight        we care   \n",
       "559     no one came    nobody came   \n",
       "812      im curious    i am curious  \n",
       "793  tom has to pay       tom has a  \n",
       "605    i keep a dog     i have a dog \n",
       "628    no ones here    its not here  \n",
       "802       tom knows        tom  try  \n",
       "835  they were weak  they were weak  \n",
       "92          help me        help me   \n",
       "820         go away        get out   \n",
       "294    it was a bet    it was a sale \n",
       "364   where are you        are  you  "
      ]
     },
     "execution_count": 60,
     "metadata": {},
     "output_type": "execute_result"
    }
   ],
   "source": [
    "pred_df.sample(15)"
   ]
  },
  {
   "cell_type": "code",
   "execution_count": null,
   "metadata": {},
   "outputs": [],
   "source": []
  }
 ],
 "metadata": {
  "kernelspec": {
   "display_name": "Python 3",
   "language": "python",
   "name": "python3"
  },
  "language_info": {
   "codemirror_mode": {
    "name": "ipython",
    "version": 3
   },
   "file_extension": ".py",
   "mimetype": "text/x-python",
   "name": "python",
   "nbconvert_exporter": "python",
   "pygments_lexer": "ipython3",
   "version": "3.8.3"
  }
 },
 "nbformat": 4,
 "nbformat_minor": 4
}
