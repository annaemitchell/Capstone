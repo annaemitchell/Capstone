{
 "cells": [
  {
   "cell_type": "markdown",
   "metadata": {},
   "source": [
    "## Neural Machine Translation\n",
    "### English to Italian "
   ]
  },
  {
   "cell_type": "code",
   "execution_count": 1,
   "metadata": {},
   "outputs": [],
   "source": [
    "import collections\n",
    "import numpy as np\n",
    "import pandas as pd\n",
    "\n",
    "import string\n",
    "import re\n",
    "from pickle import dump\n",
    "from unicodedata import normalize\n",
    "from numpy import array\n",
    "import tensorflow as tf\n",
    "from keras.preprocessing.text import Tokenizer\n",
    "import matplotlib.pyplot as plt\n",
    "import warnings\n",
    "warnings.filterwarnings(\"ignore\")"
   ]
  },
  {
   "cell_type": "code",
   "execution_count": 2,
   "metadata": {},
   "outputs": [],
   "source": [
    "from pickle import load\n",
    "from numpy import array\n",
    "from keras.preprocessing.text import Tokenizer\n",
    "from keras.preprocessing.sequence import pad_sequences\n",
    "from keras.utils import to_categorical\n",
    "from keras.utils.vis_utils import plot_model\n",
    "from keras.models import Sequential\n",
    "from keras.layers import LSTM\n",
    "from keras.layers import Dense\n",
    "from keras.layers import Embedding\n",
    "from keras.layers import RepeatVector\n",
    "from keras.layers import TimeDistributed\n",
    "from keras.callbacks import ModelCheckpoint"
   ]
  },
  {
   "cell_type": "code",
   "execution_count": 3,
   "metadata": {},
   "outputs": [],
   "source": [
    "from numpy import argmax\n",
    "from keras.preprocessing.text import Tokenizer\n",
    "from keras.preprocessing.sequence import pad_sequences\n",
    "from keras.models import load_model\n",
    "from nltk.translate.bleu_score import corpus_bleu"
   ]
  },
  {
   "cell_type": "markdown",
   "metadata": {},
   "source": [
    "#### Sources"
   ]
  },
  {
   "cell_type": "code",
   "execution_count": 6,
   "metadata": {},
   "outputs": [],
   "source": [
    "#Code help and adaption for this project come from the following resources:\n",
    "\n",
    "#https://www.analyticsvidhya.com/blog/2019/01/neural-machine-translation-keras/\n",
    "#https://towardsdatascience.com/neural-machine-translation-with-python-c2f0a34f7dd\n",
    "#https://www.tensorflow.org/tutorials/text/nmt_with_attention\n",
    "#https://stackabuse.com/python-for-nlp-neural-machine-translation-with-seq2seq-in-keras/\n",
    "#https://google.github.io/seq2seq/nmt/\n",
    "#https://opennmt.net/\n",
    "#https://stackoverflow.com/questions/tagged/machine-translation"
   ]
  },
  {
   "cell_type": "markdown",
   "metadata": {},
   "source": [
    "### Clean Text"
   ]
  },
  {
   "cell_type": "code",
   "execution_count": 15,
   "metadata": {},
   "outputs": [],
   "source": [
    "# load doc into memory\n",
    "# load data to preserve unicode italian characters, loads file as a blob of text\n",
    "def load_doc(filename):\n",
    "    # open the file as read only\n",
    "    file = open(filename, mode='rt', encoding='utf-8')\n",
    "    # read all text\n",
    "    text = file.read()\n",
    "    # close the file\n",
    "    file.close()\n",
    "    return text"
   ]
  },
  {
   "cell_type": "code",
   "execution_count": 16,
   "metadata": {},
   "outputs": [],
   "source": [
    "# split a loaded document into sentences\n",
    "def pairs(doc):\n",
    "    lines = doc.strip().split('\\n')\n",
    "    pairs = [line.split('\\t') for line in  lines]\n",
    "    return pairs"
   ]
  },
  {
   "cell_type": "code",
   "execution_count": 17,
   "metadata": {},
   "outputs": [],
   "source": [
    "# clean a list of lines\n",
    "# remove non printable characters\n",
    "# remove all punctuation characters\n",
    "# normalize all unicode characters to ASCII\n",
    "#normalize the case to lower\n",
    "#remove any remaining tokens that are not alphabetic \n",
    "#perform these operations on each phrase for each pair in the loaded dataset.\n",
    "\n",
    "def clean_pairs(lines):\n",
    "    cleaned = list()\n",
    "    # prepare regex for char filtering\n",
    "    re_print = re.compile('[^%s]' % re.escape(string.printable))\n",
    "    # prepare translation table for removing punctuation\n",
    "    table = str.maketrans('', '', string.punctuation)\n",
    "    for pair in lines:\n",
    "        clean_pair = list()\n",
    "        for line in pair:\n",
    "            # normalize unicode characters\n",
    "            line = normalize('NFD', line).encode('ascii', 'ignore')\n",
    "            line = line.decode('UTF-8')\n",
    "            # tokenize on white space\n",
    "            line = line.split()\n",
    "            # convert to lowercase\n",
    "            line = [word.lower() for word in line]\n",
    "            # remove punctuation from each token\n",
    "            line = [word.translate(table) for word in line]\n",
    "            # remove non-printable chars form each token\n",
    "            line = [re_print.sub('', w) for w in line]\n",
    "            # remove tokens with numbers in them\n",
    "            line = [word for word in line if word.isalpha()]\n",
    "            # store as string\n",
    "            clean_pair.append(' '.join(line))\n",
    "        cleaned.append(clean_pair)\n",
    "    return array(cleaned)"
   ]
  },
  {
   "cell_type": "code",
   "execution_count": 18,
   "metadata": {},
   "outputs": [],
   "source": [
    "# save a list of clean sentences to file\n",
    "def clean_data(sentences, filename):\n",
    "    dump(sentences, open(filename, 'wb'))\n",
    "    print('Saved: %s' % filename)"
   ]
  },
  {
   "cell_type": "markdown",
   "metadata": {},
   "source": [
    "#### Dataset Source: http://www.manythings.org/"
   ]
  },
  {
   "cell_type": "code",
   "execution_count": 20,
   "metadata": {},
   "outputs": [
    {
     "name": "stdout",
     "output_type": "stream",
     "text": [
      "Saved: english-italian.pkl\n"
     ]
    }
   ],
   "source": [
    "# load dataset\n",
    "filename = 'ita.txt'\n",
    "doc = load_doc(filename)\n",
    "# split into english-italian pairs\n",
    "pairs = pairs(doc)\n",
    "# clean sentences\n",
    "clean_pairs = clean_pairs(pairs)\n",
    "# save clean pairs to file\n",
    "clean_data(clean_pairs, 'english-italian.pkl')"
   ]
  },
  {
   "cell_type": "code",
   "execution_count": 21,
   "metadata": {},
   "outputs": [
    {
     "name": "stdout",
     "output_type": "stream",
     "text": [
      "[hi] => [ciao]\n",
      "[run] => [corri]\n",
      "[run] => [corra]\n",
      "[run] => [correte]\n",
      "[who] => [chi]\n",
      "[wow] => [wow]\n",
      "[jump] => [salta]\n",
      "[jump] => [salti]\n",
      "[jump] => [saltate]\n",
      "[jump] => [salta]\n",
      "[jump] => [salti]\n",
      "[jump] => [saltate]\n",
      "[stop] => [fermati]\n",
      "[stop] => [fermatevi]\n",
      "[stop] => [stop]\n",
      "[stop] => [si fermi]\n",
      "[wait] => [aspetta]\n",
      "[wait] => [aspettate]\n",
      "[wait] => [aspetti]\n",
      "[wait] => [aspetta]\n",
      "[wait] => [aspetti]\n",
      "[wait] => [aspettate]\n",
      "[do it] => [fallo]\n",
      "[do it] => [falla]\n",
      "[do it] => [lo faccia]\n",
      "[do it] => [la faccia]\n",
      "[do it] => [fatelo]\n",
      "[do it] => [fatela]\n",
      "[go on] => [vai avanti]\n",
      "[go on] => [continua]\n",
      "[go on] => [continui]\n",
      "[go on] => [continuate]\n",
      "[go on] => [vada avanti]\n",
      "[go on] => [andate avanti]\n",
      "[hello] => [buongiorno]\n",
      "[hello] => [ciao]\n",
      "[hello] => [salve]\n",
      "[i ran] => [ho corso]\n",
      "[i ran] => [corsi]\n",
      "[i see] => [capisco]\n",
      "[i see] => [io capisco]\n",
      "[i try] => [provo]\n",
      "[i try] => [io provo]\n",
      "[i won] => [ho vinto]\n",
      "[i won] => [ho vinto]\n",
      "[i won] => [vinsi]\n",
      "[oh no] => [oh no]\n",
      "[relax] => [rilassati]\n",
      "[relax] => [si rilassi]\n",
      "[relax] => [rilassatevi]\n"
     ]
    }
   ],
   "source": [
    "# check if working\n",
    "for i in range(50):\n",
    "    print('[%s] => [%s]' % (clean_pairs[i,0], clean_pairs[i,1]))"
   ]
  },
  {
   "cell_type": "markdown",
   "metadata": {},
   "source": [
    "### Split Text"
   ]
  },
  {
   "cell_type": "code",
   "execution_count": 22,
   "metadata": {},
   "outputs": [
    {
     "name": "stdout",
     "output_type": "stream",
     "text": [
      "Saved: english-italian-both.pkl\n",
      "Saved: english-italian-train.pkl\n",
      "Saved: english-italian-test.pkl\n"
     ]
    }
   ],
   "source": [
    "from pickle import load\n",
    "from pickle import dump\n",
    "from numpy.random import rand\n",
    "from numpy.random import shuffle\n",
    "\n",
    "# load a clean dataset\n",
    "def load_clean_sentences(filename):\n",
    "    return load(open(filename, 'rb'))\n",
    "\n",
    "# save a list of clean sentences to file\n",
    "def clean_data(sentences, filename):\n",
    "    dump(sentences, open(filename, 'wb'))\n",
    "    print('Saved: %s' % filename)\n",
    "\n",
    "# load dataset\n",
    "raw_dataset = load_clean_sentences('english-italian.pkl')\n",
    "\n",
    "# reduce dataset size\n",
    "n_sentences = 10000\n",
    "dataset = raw_dataset[:n_sentences, :]\n",
    "# random shuffle\n",
    "shuffle(dataset)\n",
    "# split into train/test\n",
    "train, test = dataset[:9000], dataset[9000:]\n",
    "# save\n",
    "clean_data(dataset, 'english-italian-both.pkl')\n",
    "clean_data(train, 'english-italian-train.pkl')\n",
    "clean_data(test, 'english-italian-test.pkl')"
   ]
  },
  {
   "cell_type": "markdown",
   "metadata": {},
   "source": [
    "#### Text to Sequence Conversion"
   ]
  },
  {
   "cell_type": "code",
   "execution_count": 32,
   "metadata": {},
   "outputs": [],
   "source": [
    "# function to read raw text file\n",
    "def read_text(filename):\n",
    "    # open the file\n",
    "    file = open(filename, mode='rt', encoding='utf-8')\n",
    "    # read all text\n",
    "    text = file.read()\n",
    "    file.close()\n",
    "    return text"
   ]
  },
  {
   "cell_type": "code",
   "execution_count": 33,
   "metadata": {},
   "outputs": [],
   "source": [
    "# split a text into sentences\n",
    "def to_lines(text):\n",
    "    sents = text.strip().split('\\n')\n",
    "    sents = [i.split('\\t') for i in sents]\n",
    "    return sents"
   ]
  },
  {
   "cell_type": "code",
   "execution_count": 34,
   "metadata": {},
   "outputs": [],
   "source": [
    "data = read_text(\"ita.txt\")\n",
    "ita_eng = to_lines(data)\n",
    "ita_eng = array(ita_eng)"
   ]
  },
  {
   "cell_type": "code",
   "execution_count": 35,
   "metadata": {},
   "outputs": [],
   "source": [
    "ita_eng = ita_eng[:50000,:]"
   ]
  },
  {
   "cell_type": "code",
   "execution_count": 36,
   "metadata": {},
   "outputs": [],
   "source": [
    "# Remove punctuation\n",
    "ita_eng[:,0] = [s.translate(str.maketrans('', '', string.punctuation)) for s in ita_eng[:,0]]\n",
    "ita_eng[:,1] = [s.translate(str.maketrans('', '', string.punctuation)) for s in ita_eng[:,1]]"
   ]
  },
  {
   "cell_type": "code",
   "execution_count": 37,
   "metadata": {},
   "outputs": [],
   "source": [
    "# convert to lowercase\n",
    "for i in range(len(ita_eng)):\n",
    "    ita_eng[i,0] = ita_eng[i,0].lower()\n",
    "    \n",
    "    ita_eng[i,1] = ita_eng[i,1].lower()"
   ]
  },
  {
   "cell_type": "code",
   "execution_count": 38,
   "metadata": {},
   "outputs": [],
   "source": [
    "# empty lists\n",
    "eng_l = []\n",
    "ita_l = []\n",
    "\n",
    "# populate the lists with sentence lengths\n",
    "for i in ita_eng[:,0]:\n",
    "    ita_l.append(len(i.split()))\n",
    "\n",
    "for i in ita_eng[:,1]:\n",
    "    ita_l.append(len(i.split()))"
   ]
  },
  {
   "cell_type": "code",
   "execution_count": 41,
   "metadata": {},
   "outputs": [],
   "source": [
    "#length_df = pd.DataFrame({'english':eng_l, 'italian':ita_l})"
   ]
  },
  {
   "cell_type": "code",
   "execution_count": null,
   "metadata": {},
   "outputs": [],
   "source": []
  },
  {
   "cell_type": "code",
   "execution_count": 42,
   "metadata": {},
   "outputs": [],
   "source": [
    "# function to build a tokenizer\n",
    "def tokenization(lines):\n",
    "    tokenizer = Tokenizer()\n",
    "    tokenizer.fit_on_texts(lines)\n",
    "    return tokenizer"
   ]
  },
  {
   "cell_type": "code",
   "execution_count": 45,
   "metadata": {},
   "outputs": [
    {
     "name": "stdout",
     "output_type": "stream",
     "text": [
      "English Vocabulary Size: 4212\n"
     ]
    }
   ],
   "source": [
    "# english tokenizer\n",
    "eng_tokenizer = tokenization(ita_eng[:, 0])\n",
    "eng_vocab_size = len(eng_tokenizer.word_index) + 1\n",
    "\n",
    "eng_length = 10\n",
    "print('English Vocabulary Size: %d' % eng_vocab_size)"
   ]
  },
  {
   "cell_type": "code",
   "execution_count": 47,
   "metadata": {},
   "outputs": [
    {
     "name": "stdout",
     "output_type": "stream",
     "text": [
      "Italian Vocabulary Size: 9665\n"
     ]
    }
   ],
   "source": [
    "# italian tokenizer\n",
    "ita_tokenizer = tokenization(ita_eng[:, 1])\n",
    "ita_vocab_size = len(ita_tokenizer.word_index) + 1\n",
    "\n",
    "ita_length = 8\n",
    "print('Italian Vocabulary Size: %d' % ita_vocab_size)"
   ]
  },
  {
   "cell_type": "markdown",
   "metadata": {},
   "source": [
    "### Train Neural Translation Model"
   ]
  },
  {
   "cell_type": "code",
   "execution_count": 2,
   "metadata": {},
   "outputs": [],
   "source": [
    "#develop neural translation model\n",
    "#load and prepare clean text data ready for modeling and define and train the model\n",
    "#-> on the prepared data "
   ]
  },
  {
   "cell_type": "code",
   "execution_count": 1,
   "metadata": {},
   "outputs": [],
   "source": [
    "#code adapted from https://medium.com/@umerfarooq_26378/neural-machine-translation-with-code-68c425044bbd"
   ]
  },
  {
   "cell_type": "code",
   "execution_count": 49,
   "metadata": {},
   "outputs": [
    {
     "name": "stdout",
     "output_type": "stream",
     "text": [
      "English Vocabulary Size: 1409\n",
      "English Max Length: 4\n",
      "Italian Vocabulary Size: 3594\n",
      "Italian Max Length: 7\n",
      "Model: \"sequential\"\n",
      "_________________________________________________________________\n",
      "Layer (type)                 Output Shape              Param #   \n",
      "=================================================================\n",
      "embedding (Embedding)        (None, 7, 256)            920064    \n",
      "_________________________________________________________________\n",
      "lstm (LSTM)                  (None, 256)               525312    \n",
      "_________________________________________________________________\n",
      "repeat_vector (RepeatVector) (None, 4, 256)            0         \n",
      "_________________________________________________________________\n",
      "lstm_1 (LSTM)                (None, 4, 256)            525312    \n",
      "_________________________________________________________________\n",
      "time_distributed (TimeDistri (None, 4, 1409)           362113    \n",
      "=================================================================\n",
      "Total params: 2,332,801\n",
      "Trainable params: 2,332,801\n",
      "Non-trainable params: 0\n",
      "_________________________________________________________________\n",
      "None\n",
      "Epoch 1/30\n",
      "\n",
      "Epoch 00001: val_loss improved from inf to 3.53561, saving model to model.h5\n",
      "141/141 - 8s - loss: 4.3179 - val_loss: 3.5356\n",
      "Epoch 2/30\n",
      "\n",
      "Epoch 00002: val_loss improved from 3.53561 to 3.31408, saving model to model.h5\n",
      "141/141 - 6s - loss: 3.3776 - val_loss: 3.3141\n",
      "Epoch 3/30\n",
      "\n",
      "Epoch 00003: val_loss improved from 3.31408 to 3.09710, saving model to model.h5\n",
      "141/141 - 6s - loss: 3.1315 - val_loss: 3.0971\n",
      "Epoch 4/30\n",
      "\n",
      "Epoch 00004: val_loss improved from 3.09710 to 2.91334, saving model to model.h5\n",
      "141/141 - 6s - loss: 2.8778 - val_loss: 2.9133\n",
      "Epoch 5/30\n",
      "\n",
      "Epoch 00005: val_loss improved from 2.91334 to 2.69016, saving model to model.h5\n",
      "141/141 - 6s - loss: 2.6286 - val_loss: 2.6902\n",
      "Epoch 6/30\n",
      "\n",
      "Epoch 00006: val_loss improved from 2.69016 to 2.50787, saving model to model.h5\n",
      "141/141 - 6s - loss: 2.3749 - val_loss: 2.5079\n",
      "Epoch 7/30\n",
      "\n",
      "Epoch 00007: val_loss improved from 2.50787 to 2.33382, saving model to model.h5\n",
      "141/141 - 6s - loss: 2.1460 - val_loss: 2.3338\n",
      "Epoch 8/30\n",
      "\n",
      "Epoch 00008: val_loss improved from 2.33382 to 2.20082, saving model to model.h5\n",
      "141/141 - 6s - loss: 1.9367 - val_loss: 2.2008\n",
      "Epoch 9/30\n",
      "\n",
      "Epoch 00009: val_loss improved from 2.20082 to 2.05648, saving model to model.h5\n",
      "141/141 - 6s - loss: 1.7583 - val_loss: 2.0565\n",
      "Epoch 10/30\n",
      "\n",
      "Epoch 00010: val_loss improved from 2.05648 to 1.94752, saving model to model.h5\n",
      "141/141 - 6s - loss: 1.5912 - val_loss: 1.9475\n",
      "Epoch 11/30\n",
      "\n",
      "Epoch 00011: val_loss improved from 1.94752 to 1.86023, saving model to model.h5\n",
      "141/141 - 6s - loss: 1.4346 - val_loss: 1.8602\n",
      "Epoch 12/30\n",
      "\n",
      "Epoch 00012: val_loss improved from 1.86023 to 1.77860, saving model to model.h5\n",
      "141/141 - 6s - loss: 1.2940 - val_loss: 1.7786\n",
      "Epoch 13/30\n",
      "\n",
      "Epoch 00013: val_loss improved from 1.77860 to 1.68760, saving model to model.h5\n",
      "141/141 - 6s - loss: 1.1676 - val_loss: 1.6876\n",
      "Epoch 14/30\n",
      "\n",
      "Epoch 00014: val_loss improved from 1.68760 to 1.61497, saving model to model.h5\n",
      "141/141 - 6s - loss: 1.0463 - val_loss: 1.6150\n",
      "Epoch 15/30\n",
      "\n",
      "Epoch 00015: val_loss improved from 1.61497 to 1.55748, saving model to model.h5\n",
      "141/141 - 6s - loss: 0.9378 - val_loss: 1.5575\n",
      "Epoch 16/30\n",
      "\n",
      "Epoch 00016: val_loss improved from 1.55748 to 1.49546, saving model to model.h5\n",
      "141/141 - 6s - loss: 0.8376 - val_loss: 1.4955\n",
      "Epoch 17/30\n",
      "\n",
      "Epoch 00017: val_loss improved from 1.49546 to 1.44903, saving model to model.h5\n",
      "141/141 - 6s - loss: 0.7488 - val_loss: 1.4490\n",
      "Epoch 18/30\n",
      "\n",
      "Epoch 00018: val_loss improved from 1.44903 to 1.38638, saving model to model.h5\n",
      "141/141 - 6s - loss: 0.6644 - val_loss: 1.3864\n",
      "Epoch 19/30\n",
      "\n",
      "Epoch 00019: val_loss improved from 1.38638 to 1.34608, saving model to model.h5\n",
      "141/141 - 6s - loss: 0.5910 - val_loss: 1.3461\n",
      "Epoch 20/30\n",
      "\n",
      "Epoch 00020: val_loss improved from 1.34608 to 1.30281, saving model to model.h5\n",
      "141/141 - 6s - loss: 0.5253 - val_loss: 1.3028\n",
      "Epoch 21/30\n",
      "\n",
      "Epoch 00021: val_loss improved from 1.30281 to 1.28837, saving model to model.h5\n",
      "141/141 - 6s - loss: 0.4691 - val_loss: 1.2884\n",
      "Epoch 22/30\n",
      "\n",
      "Epoch 00022: val_loss improved from 1.28837 to 1.26175, saving model to model.h5\n",
      "141/141 - 6s - loss: 0.4198 - val_loss: 1.2617\n",
      "Epoch 23/30\n",
      "\n",
      "Epoch 00023: val_loss improved from 1.26175 to 1.22942, saving model to model.h5\n",
      "141/141 - 6s - loss: 0.3796 - val_loss: 1.2294\n",
      "Epoch 24/30\n",
      "\n",
      "Epoch 00024: val_loss improved from 1.22942 to 1.22432, saving model to model.h5\n",
      "141/141 - 6s - loss: 0.3418 - val_loss: 1.2243\n",
      "Epoch 25/30\n",
      "\n",
      "Epoch 00025: val_loss improved from 1.22432 to 1.20096, saving model to model.h5\n",
      "141/141 - 6s - loss: 0.3093 - val_loss: 1.2010\n",
      "Epoch 26/30\n",
      "\n",
      "Epoch 00026: val_loss improved from 1.20096 to 1.17822, saving model to model.h5\n",
      "141/141 - 6s - loss: 0.2814 - val_loss: 1.1782\n",
      "Epoch 27/30\n",
      "\n",
      "Epoch 00027: val_loss did not improve from 1.17822\n",
      "141/141 - 6s - loss: 0.2578 - val_loss: 1.1832\n",
      "Epoch 28/30\n",
      "\n",
      "Epoch 00028: val_loss improved from 1.17822 to 1.17170, saving model to model.h5\n",
      "141/141 - 6s - loss: 0.2388 - val_loss: 1.1717\n",
      "Epoch 29/30\n",
      "\n",
      "Epoch 00029: val_loss did not improve from 1.17170\n",
      "141/141 - 6s - loss: 0.2223 - val_loss: 1.1758\n",
      "Epoch 30/30\n",
      "\n",
      "Epoch 00030: val_loss improved from 1.17170 to 1.15979, saving model to model.h5\n",
      "141/141 - 6s - loss: 0.2099 - val_loss: 1.1598\n"
     ]
    }
   ],
   "source": [
    "# load a clean dataset\n",
    "def load_clean_sentences(filename):\n",
    "    return load(open(filename, 'rb'))\n",
    " \n",
    "# fit a tokenizer\n",
    "def create_tokenizer(lines):\n",
    "    tokenizer = Tokenizer()\n",
    "    tokenizer.fit_on_texts(lines)\n",
    "    return tokenizer\n",
    " \n",
    "# max sentence length\n",
    "def max_length(lines):\n",
    "    return max(len(line.split()) for line in lines)\n",
    " \n",
    "# encode and pad sequences\n",
    "def encode_sequences(tokenizer, length, lines):\n",
    "    # integer encode sequences\n",
    "    X = tokenizer.texts_to_sequences(lines)\n",
    "    # pad sequences with 0 values\n",
    "    X = pad_sequences(X, maxlen=length, padding='post')\n",
    "    return X\n",
    " \n",
    "# one hot encode target sequence\n",
    "def encode_output(sequences, vocab_size):\n",
    "    ylist = list()\n",
    "    for sequence in sequences:\n",
    "        encoded = to_categorical(sequence, num_classes=vocab_size)\n",
    "        ylist.append(encoded)\n",
    "    y = array(ylist)\n",
    "    y = y.reshape(sequences.shape[0], sequences.shape[1], vocab_size)\n",
    "    return y\n",
    " \n",
    "# define NMT model\n",
    "def define_model(src_vocab, tar_vocab, src_timesteps, tar_timesteps, n_units):\n",
    "    model = Sequential()\n",
    "    model.add(Embedding(src_vocab, n_units, input_length=src_timesteps, mask_zero=True))\n",
    "    model.add(LSTM(n_units))\n",
    "    model.add(RepeatVector(tar_timesteps))\n",
    "    model.add(LSTM(n_units, return_sequences=True))\n",
    "    model.add(TimeDistributed(Dense(tar_vocab, activation='softmax')))\n",
    "    return model\n",
    "\n",
    "# load datasets\n",
    "dataset = load_clean_sentences('english-italian-both.pkl')\n",
    "train = load_clean_sentences('english-italian-train.pkl')\n",
    "test = load_clean_sentences('english-italian-test.pkl')\n",
    " \n",
    "# prepare english tokenizer\n",
    "eng_tokenizer = create_tokenizer(dataset[:, 0])\n",
    "eng_vocab_size = len(eng_tokenizer.word_index) + 1\n",
    "eng_length = max_length(dataset[:, 0])\n",
    "print('English Vocabulary Size: %d' % eng_vocab_size)\n",
    "print('English Max Length: %d' % (eng_length))\n",
    "# prepare italian tokenizer\n",
    "ita_tokenizer = create_tokenizer(dataset[:, 1])\n",
    "ita_vocab_size = len(ita_tokenizer.word_index) + 1\n",
    "ita_length = max_length(dataset[:, 1])\n",
    "print('Italian Vocabulary Size: %d' % ita_vocab_size)\n",
    "print('Italian Max Length: %d' % (ita_length))\n",
    " \n",
    "# prepare training data\n",
    "trainX = encode_sequences(ita_tokenizer, ita_length, train[:, 1])\n",
    "trainY = encode_sequences(eng_tokenizer, eng_length, train[:, 0])\n",
    "trainY = encode_output(trainY, eng_vocab_size)\n",
    "# prepare validation data\n",
    "testX = encode_sequences(ita_tokenizer, ita_length, test[:, 1])\n",
    "testY = encode_sequences(eng_tokenizer, eng_length, test[:, 0])\n",
    "testY = encode_output(testY, eng_vocab_size)\n",
    " \n",
    "# define model\n",
    "model = define_model(ita_vocab_size, eng_vocab_size, ita_length, eng_length, 256)\n",
    "model.compile(optimizer='adam', loss='categorical_crossentropy')\n",
    "# summarize defined model\n",
    "print(model.summary())\n",
    "#plot_model(model, to_file='model.png', show_shapes=True)\n",
    "\n",
    "# fit model\n",
    "filename = 'model.h5'\n",
    "checkpoint = ModelCheckpoint(filename, monitor='val_loss', verbose=1, save_best_only=True, mode='min')\n",
    "history = model.fit(trainX, trainY, epochs=30, batch_size=64, validation_data=(testX, testY), callbacks=[checkpoint], verbose=2)"
   ]
  },
  {
   "cell_type": "code",
   "execution_count": 50,
   "metadata": {},
   "outputs": [
    {
     "data": {
      "image/png": "[encoded data removed]",
      "text/plain": [
       "<Figure size 432x288 with 1 Axes>"
      ]
     },
     "metadata": {
      "needs_background": "light"
     },
     "output_type": "display_data"
    }
   ],
   "source": [
    "#Let's compare the training loss and the validation loss.\n",
    "plt.plot(history.history['loss'])\n",
    "plt.plot(history.history['val_loss'])\n",
    "plt.legend(['train','validation'])\n",
    "plt.show()"
   ]
  },
  {
   "cell_type": "markdown",
   "metadata": {},
   "source": [
    "### Evaluate Neural Translation Model"
   ]
  },
  {
   "cell_type": "code",
   "execution_count": 51,
   "metadata": {},
   "outputs": [],
   "source": [
    "# load datasets\n",
    "dataset = load_clean_sentences('english-italian-both.pkl')\n",
    "train = load_clean_sentences('english-italian-train.pkl')\n",
    "test = load_clean_sentences('english-italian-test.pkl')"
   ]
  },
  {
   "cell_type": "code",
   "execution_count": 52,
   "metadata": {},
   "outputs": [],
   "source": [
    "# prepare english tokenizer\n",
    "eng_tokenizer = create_tokenizer(dataset[:, 0])\n",
    "eng_vocab_size = len(eng_tokenizer.word_index) + 1\n",
    "eng_length = max_length(dataset[:, 0])"
   ]
  },
  {
   "cell_type": "code",
   "execution_count": 53,
   "metadata": {},
   "outputs": [],
   "source": [
    "# prepare italian tokenizer\n",
    "ita_tokenizer = create_tokenizer(dataset[:, 1])\n",
    "ita_vocab_size = len(ita_tokenizer.word_index) + 1\n",
    "ita_length = max_length(dataset[:, 1])"
   ]
  },
  {
   "cell_type": "code",
   "execution_count": 54,
   "metadata": {},
   "outputs": [],
   "source": [
    "# prepare data\n",
    "trainX = encode_sequences(ita_tokenizer, ita_length, train[:, 1])\n",
    "testX = encode_sequences(ita_tokenizer, ita_length, test[:, 1])"
   ]
  },
  {
   "cell_type": "markdown",
   "metadata": {},
   "source": [
    "### Save my NN model to YAML"
   ]
  },
  {
   "cell_type": "code",
   "execution_count": 2,
   "metadata": {},
   "outputs": [],
   "source": [
    "#code help from https://towardsdatascience.com/saving-and-loading-keras-model-42195b92f57a"
   ]
  },
  {
   "cell_type": "code",
   "execution_count": 55,
   "metadata": {},
   "outputs": [],
   "source": [
    "from keras.models import model_from_yaml\n",
    "import os"
   ]
  },
  {
   "cell_type": "code",
   "execution_count": 56,
   "metadata": {},
   "outputs": [
    {
     "data": {
      "text/plain": [
       "0.17755618691444397"
      ]
     },
     "execution_count": 56,
     "metadata": {},
     "output_type": "execute_result"
    }
   ],
   "source": [
    "scores = model.evaluate(trainX, trainY, verbose=0)\n",
    "scores"
   ]
  },
  {
   "cell_type": "code",
   "execution_count": 57,
   "metadata": {},
   "outputs": [],
   "source": [
    "# serialize model to YAML\n",
    "model_yaml = model.to_yaml()\n",
    "with open(\"model.yaml\", \"w\") as yaml_file:\n",
    "    yaml_file.write(model_yaml)"
   ]
  },
  {
   "cell_type": "code",
   "execution_count": 58,
   "metadata": {},
   "outputs": [
    {
     "name": "stdout",
     "output_type": "stream",
     "text": [
      "Saved model to disk\n"
     ]
    }
   ],
   "source": [
    "# serialize weights to HDF5\n",
    "model.save_weights(\"model.h5\")\n",
    "print(\"Saved model to disk\")"
   ]
  },
  {
   "cell_type": "code",
   "execution_count": 59,
   "metadata": {},
   "outputs": [],
   "source": [
    "# load YAML and create model\n",
    "yaml_file = open('model.yaml', 'r')\n",
    "loaded_model_yaml = yaml_file.read()\n",
    "yaml_file.close()\n",
    "loaded_model = model_from_yaml(loaded_model_yaml)"
   ]
  },
  {
   "cell_type": "code",
   "execution_count": 60,
   "metadata": {},
   "outputs": [
    {
     "name": "stdout",
     "output_type": "stream",
     "text": [
      "Loaded model from disk\n"
     ]
    }
   ],
   "source": [
    "# load weights into new model\n",
    "loaded_model.load_weights(\"model.h5\")\n",
    "print(\"Loaded model from disk\")"
   ]
  },
  {
   "cell_type": "code",
   "execution_count": 61,
   "metadata": {},
   "outputs": [
    {
     "name": "stdout",
     "output_type": "stream",
     "text": [
      "accuracy: 94.77%\n"
     ]
    }
   ],
   "source": [
    "# evaluate loaded model on test data\n",
    "loaded_model.compile(loss='binary_crossentropy', optimizer='rmsprop', metrics=['accuracy'])\n",
    "score = loaded_model.evaluate(trainX, trainY, verbose=0)\n",
    "print(\"%s: %.2f%%\" % (loaded_model.metrics_names[1], score[1]*100))"
   ]
  },
  {
   "cell_type": "code",
   "execution_count": 62,
   "metadata": {},
   "outputs": [
    {
     "name": "stdout",
     "output_type": "stream",
     "text": [
      "Saved model to disk\n"
     ]
    }
   ],
   "source": [
    "# save model and architecture to single file\n",
    "model.save(\"model.h5\")\n",
    "print(\"Saved model to disk\")"
   ]
  },
  {
   "cell_type": "code",
   "execution_count": 63,
   "metadata": {},
   "outputs": [],
   "source": [
    "# load model\n",
    "model = load_model('model.h5')"
   ]
  },
  {
   "cell_type": "code",
   "execution_count": 64,
   "metadata": {},
   "outputs": [],
   "source": [
    "#Next repeat this for each source phrase in a dataset and \n",
    "#-> compare the predicted result to the expected target phrase in English."
   ]
  },
  {
   "cell_type": "code",
   "execution_count": 3,
   "metadata": {},
   "outputs": [],
   "source": [
    "#code help from #https://www.analyticsvidhya.com/blog/2019/01/neural-machine-translation-keras/"
   ]
  },
  {
   "cell_type": "code",
   "execution_count": 65,
   "metadata": {},
   "outputs": [
    {
     "name": "stdout",
     "output_type": "stream",
     "text": [
      "train\n",
      "src=[vai al piano di sopra], target=[get upstairs], predicted=[get upstairs]\n",
      "src=[possiamo andare], target=[can we go], predicted=[we we go]\n",
      "src=[sappiamo il perche], target=[we know why], predicted=[we know why]\n",
      "src=[non parlare], target=[dont talk], predicted=[dont talk]\n",
      "src=[nessuno lo ha chiesto], target=[nobody asked], predicted=[nobody asked]\n",
      "src=[tom restera], target=[tomll stay], predicted=[tomll stay]\n",
      "src=[hanno rifiutato], target=[they refused], predicted=[they refused]\n",
      "src=[lui lha negata], target=[he denied it], predicted=[he denied it]\n",
      "src=[sii calmo], target=[be calm], predicted=[be calm]\n",
      "src=[non stare in piedi], target=[dont stand], predicted=[dont stand]\n",
      "BLEU-1: 0.932758\n",
      "BLEU-2: 0.905424\n",
      "BLEU-3: 0.720104\n",
      "BLEU-4: 0.284593\n",
      "test\n",
      "src=[vivo da sola], target=[i live alone], predicted=[i live alone]\n",
      "src=[state ferme], target=[stay put], predicted=[stand still]\n",
      "src=[non te la prendere], target=[take it easy], predicted=[dont not up]\n",
      "src=[come assurda], target=[how absurd], predicted=[how deep]\n",
      "src=[sono vecchio], target=[i am old], predicted=[im old]\n",
      "src=[lei e anziano], target=[youre old], predicted=[youre old]\n",
      "src=[state calmi], target=[keep calm], predicted=[sit still]\n",
      "src=[mi sbrighero], target=[ill hurry], predicted=[ill hurry]\n",
      "src=[non correro], target=[i wont run], predicted=[dont yell]\n",
      "src=[io vedro tom], target=[ill see tom], predicted=[ill see tom]\n",
      "BLEU-1: 0.717079\n",
      "BLEU-2: 0.647478\n",
      "BLEU-3: 0.519033\n",
      "BLEU-4: 0.217437\n"
     ]
    }
   ],
   "source": [
    "# load a clean dataset\n",
    "def load_clean_sentences(filename):\n",
    "    return load(open(filename, 'rb'))\n",
    "\n",
    "# fit a tokenizer\n",
    "def create_tokenizer(lines):\n",
    "    tokenizer = Tokenizer()\n",
    "    tokenizer.fit_on_texts(lines)\n",
    "    return tokenizer\n",
    " \n",
    "# max sentence length\n",
    "def max_length(lines):\n",
    "    return max(len(line.split()) for line in lines)\n",
    " \n",
    "# encode and pad sequences\n",
    "def encode_sequences(tokenizer, length, lines):\n",
    "    # integer encode sequences\n",
    "    X = tokenizer.texts_to_sequences(lines)\n",
    "    # pad sequences with 0 values\n",
    "    X = pad_sequences(X, maxlen=length, padding='post')\n",
    "    return X\n",
    " \n",
    "# map an integer to a word\n",
    "def word_for_id(integer, tokenizer):\n",
    "    for word, index in tokenizer.word_index.items():\n",
    "        if index == integer:\n",
    "            return word\n",
    "    return None\n",
    " \n",
    "# generate target given source sequence\n",
    "def predict_sequence(model, tokenizer, source):\n",
    "    prediction = model.predict(source, verbose=0)[0]\n",
    "    integers = [argmax(vector) for vector in prediction]\n",
    "    target = list()\n",
    "    for i in integers:\n",
    "        word = word_for_id(i, tokenizer)\n",
    "        if word is None:\n",
    "            break\n",
    "        target.append(word)\n",
    "    return ' '.join(target)\n",
    " \n",
    "# evaluate the skill of the model\n",
    "def evaluate_model(model, tokenizer, sources, raw_dataset):\n",
    "    actual, predicted = list(), list()\n",
    "    for i, source in enumerate(sources):\n",
    "        # translate encoded source text\n",
    "        source = source.reshape((1, source.shape[0]))\n",
    "        translation = predict_sequence(model, eng_tokenizer, source)\n",
    "        raw_target, raw_src = raw_dataset[i]\n",
    "        if i < 10:\n",
    "            print('src=[%s], target=[%s], predicted=[%s]' % (raw_src, raw_target, translation))\n",
    "        actual.append([raw_target.split()])\n",
    "        predicted.append(translation.split())\n",
    "    # calculate BLEU score\n",
    "    print('BLEU-1: %f' % corpus_bleu(actual, predicted, weights=(1.0, 0, 0, 0)))\n",
    "    print('BLEU-2: %f' % corpus_bleu(actual, predicted, weights=(0.5, 0.5, 0, 0)))\n",
    "    print('BLEU-3: %f' % corpus_bleu(actual, predicted, weights=(0.3, 0.3, 0.3, 0)))\n",
    "    print('BLEU-4: %f' % corpus_bleu(actual, predicted, weights=(0.25, 0.25, 0.25, 0.25)))\n",
    " \n",
    "# load datasets\n",
    "dataset = load_clean_sentences('english-italian-both.pkl')\n",
    "train = load_clean_sentences('english-italian-train.pkl')\n",
    "test = load_clean_sentences('english-italian-test.pkl')\n",
    "# prepare english tokenizer\n",
    "eng_tokenizer = create_tokenizer(dataset[:, 0])\n",
    "eng_vocab_size = len(eng_tokenizer.word_index) + 1\n",
    "eng_length = max_length(dataset[:, 0])\n",
    "# prepare italian tokenizer\n",
    "ita_tokenizer = create_tokenizer(dataset[:, 1])\n",
    "ita_vocab_size = len(ita_tokenizer.word_index) + 1\n",
    "ita_length = max_length(dataset[:, 1])\n",
    "# prepare data\n",
    "trainX = encode_sequences(ita_tokenizer, ita_length, train[:, 1])\n",
    "testX = encode_sequences(ita_tokenizer, ita_length, test[:, 1])\n",
    " \n",
    "# load model\n",
    "model = load_model('model.h5')\n",
    "# test on some training sequences\n",
    "print('train')\n",
    "evaluate_model(model, eng_tokenizer, trainX, train)\n",
    "# test on some test sequences\n",
    "print('test')\n",
    "evaluate_model(model, eng_tokenizer, testX, test)"
   ]
  },
  {
   "cell_type": "markdown",
   "metadata": {},
   "source": [
    "### Make Predictions on unseen data"
   ]
  },
  {
   "cell_type": "code",
   "execution_count": 4,
   "metadata": {},
   "outputs": [],
   "source": [
    "#code help from https://stackabuse.com/python-for-nlp-neural-machine-translation-with-seq2seq-in-keras/"
   ]
  },
  {
   "cell_type": "code",
   "execution_count": 66,
   "metadata": {},
   "outputs": [
    {
     "name": "stdout",
     "output_type": "stream",
     "text": [
      "WARNING:tensorflow:From <ipython-input-66-193c8672be89>:2: Sequential.predict_classes (from tensorflow.python.keras.engine.sequential) is deprecated and will be removed after 2021-01-01.\n",
      "Instructions for updating:\n",
      "Please use instead:* `np.argmax(model.predict(x), axis=-1)`,   if your model does multi-class classification   (e.g. if it uses a `softmax` last-layer activation).* `(model.predict(x) > 0.5).astype(\"int32\")`,   if your model does binary classification   (e.g. if it uses a `sigmoid` last-layer activation).\n"
     ]
    }
   ],
   "source": [
    "model = load_model('model.h5')\n",
    "preds = model.predict_classes(testX.reshape((testX.shape[0],testX.shape[1])))"
   ]
  },
  {
   "cell_type": "code",
   "execution_count": 67,
   "metadata": {},
   "outputs": [],
   "source": [
    "def get_word(n, tokenizer):\n",
    "    for word, index in tokenizer.word_index.items():\n",
    "        if index == n:\n",
    "            return word\n",
    "    return None"
   ]
  },
  {
   "cell_type": "code",
   "execution_count": 68,
   "metadata": {},
   "outputs": [],
   "source": [
    "# convert predictions into text (English)\n",
    "preds_text = []\n",
    "for i in preds:\n",
    "    temp = []\n",
    "    for j in range(len(i)):\n",
    "        t = get_word(i[j], eng_tokenizer)\n",
    "        if j > 0:\n",
    "            if (t == get_word(i[j-1], eng_tokenizer)) or (t == None):\n",
    "                temp.append('')\n",
    "            else:\n",
    "                temp.append(t)\n",
    "             \n",
    "        else:\n",
    "            if(t == None):\n",
    "                temp.append('')\n",
    "            else:\n",
    "                temp.append(t)            \n",
    "        \n",
    "    preds_text.append(' '.join(temp))"
   ]
  },
  {
   "cell_type": "code",
   "execution_count": 69,
   "metadata": {},
   "outputs": [],
   "source": [
    "pred_df = pd.DataFrame({'actual' : test[:,0], 'predicted' : preds_text})"
   ]
  },
  {
   "cell_type": "code",
   "execution_count": 70,
   "metadata": {},
   "outputs": [],
   "source": [
    "pd.set_option('display.max_colwidth', 200)"
   ]
  },
  {
   "cell_type": "code",
   "execution_count": 71,
   "metadata": {},
   "outputs": [
    {
     "data": {
      "text/html": [
       "<div>\n",
       "<style scoped>\n",
       "    .dataframe tbody tr th:only-of-type {\n",
       "        vertical-align: middle;\n",
       "    }\n",
       "\n",
       "    .dataframe tbody tr th {\n",
       "        vertical-align: top;\n",
       "    }\n",
       "\n",
       "    .dataframe thead th {\n",
       "        text-align: right;\n",
       "    }\n",
       "</style>\n",
       "<table border=\"1\" class=\"dataframe\">\n",
       "  <thead>\n",
       "    <tr style=\"text-align: right;\">\n",
       "      <th></th>\n",
       "      <th>actual</th>\n",
       "      <th>predicted</th>\n",
       "    </tr>\n",
       "  </thead>\n",
       "  <tbody>\n",
       "    <tr>\n",
       "      <th>0</th>\n",
       "      <td>i live alone</td>\n",
       "      <td>i live alone</td>\n",
       "    </tr>\n",
       "    <tr>\n",
       "      <th>1</th>\n",
       "      <td>stay put</td>\n",
       "      <td>stand still</td>\n",
       "    </tr>\n",
       "    <tr>\n",
       "      <th>2</th>\n",
       "      <td>take it easy</td>\n",
       "      <td>dont not up</td>\n",
       "    </tr>\n",
       "    <tr>\n",
       "      <th>3</th>\n",
       "      <td>how absurd</td>\n",
       "      <td>how deep</td>\n",
       "    </tr>\n",
       "    <tr>\n",
       "      <th>4</th>\n",
       "      <td>i am old</td>\n",
       "      <td>im old</td>\n",
       "    </tr>\n",
       "    <tr>\n",
       "      <th>5</th>\n",
       "      <td>youre old</td>\n",
       "      <td>youre old</td>\n",
       "    </tr>\n",
       "    <tr>\n",
       "      <th>6</th>\n",
       "      <td>keep calm</td>\n",
       "      <td>sit still</td>\n",
       "    </tr>\n",
       "    <tr>\n",
       "      <th>7</th>\n",
       "      <td>ill hurry</td>\n",
       "      <td>ill hurry</td>\n",
       "    </tr>\n",
       "    <tr>\n",
       "      <th>8</th>\n",
       "      <td>i wont run</td>\n",
       "      <td>dont yell</td>\n",
       "    </tr>\n",
       "    <tr>\n",
       "      <th>9</th>\n",
       "      <td>ill see tom</td>\n",
       "      <td>ill see tom</td>\n",
       "    </tr>\n",
       "    <tr>\n",
       "      <th>10</th>\n",
       "      <td>im diligent</td>\n",
       "      <td>im diligent</td>\n",
       "    </tr>\n",
       "    <tr>\n",
       "      <th>11</th>\n",
       "      <td>youre wise</td>\n",
       "      <td>youre wise</td>\n",
       "    </tr>\n",
       "    <tr>\n",
       "      <th>12</th>\n",
       "      <td>who hit tom</td>\n",
       "      <td>who tom</td>\n",
       "    </tr>\n",
       "    <tr>\n",
       "      <th>13</th>\n",
       "      <td>im blind</td>\n",
       "      <td>im blind</td>\n",
       "    </tr>\n",
       "    <tr>\n",
       "      <th>14</th>\n",
       "      <td>stay there</td>\n",
       "      <td>stay there</td>\n",
       "    </tr>\n",
       "  </tbody>\n",
       "</table>\n",
       "</div>"
      ],
      "text/plain": [
       "          actual      predicted\n",
       "0   i live alone  i live alone \n",
       "1       stay put  stand still  \n",
       "2   take it easy   dont not up \n",
       "3     how absurd     how deep  \n",
       "4       i am old       im old  \n",
       "5      youre old    youre old  \n",
       "6      keep calm    sit still  \n",
       "7      ill hurry    ill hurry  \n",
       "8     i wont run    dont yell  \n",
       "9    ill see tom   ill see tom \n",
       "10   im diligent  im diligent  \n",
       "11    youre wise   youre wise  \n",
       "12   who hit tom      who tom  \n",
       "13      im blind     im blind  \n",
       "14    stay there   stay there  "
      ]
     },
     "execution_count": 71,
     "metadata": {},
     "output_type": "execute_result"
    }
   ],
   "source": [
    "pred_df.head(15)"
   ]
  },
  {
   "cell_type": "code",
   "execution_count": 72,
   "metadata": {},
   "outputs": [
    {
     "data": {
      "text/html": [
       "<div>\n",
       "<style scoped>\n",
       "    .dataframe tbody tr th:only-of-type {\n",
       "        vertical-align: middle;\n",
       "    }\n",
       "\n",
       "    .dataframe tbody tr th {\n",
       "        vertical-align: top;\n",
       "    }\n",
       "\n",
       "    .dataframe thead th {\n",
       "        text-align: right;\n",
       "    }\n",
       "</style>\n",
       "<table border=\"1\" class=\"dataframe\">\n",
       "  <thead>\n",
       "    <tr style=\"text-align: right;\">\n",
       "      <th></th>\n",
       "      <th>actual</th>\n",
       "      <th>predicted</th>\n",
       "    </tr>\n",
       "  </thead>\n",
       "  <tbody>\n",
       "    <tr>\n",
       "      <th>761</th>\n",
       "      <td>im a model</td>\n",
       "      <td>im a model</td>\n",
       "    </tr>\n",
       "    <tr>\n",
       "      <th>287</th>\n",
       "      <td>im not sure</td>\n",
       "      <td>im not sure</td>\n",
       "    </tr>\n",
       "    <tr>\n",
       "      <th>226</th>\n",
       "      <td>jump across</td>\n",
       "      <td>jump across</td>\n",
       "    </tr>\n",
       "    <tr>\n",
       "      <th>732</th>\n",
       "      <td>grab that</td>\n",
       "      <td>grab that</td>\n",
       "    </tr>\n",
       "    <tr>\n",
       "      <th>499</th>\n",
       "      <td>be realistic</td>\n",
       "      <td>be realistic</td>\n",
       "    </tr>\n",
       "    <tr>\n",
       "      <th>545</th>\n",
       "      <td>i love kids</td>\n",
       "      <td>i love kids</td>\n",
       "    </tr>\n",
       "    <tr>\n",
       "      <th>331</th>\n",
       "      <td>smile</td>\n",
       "      <td>jump</td>\n",
       "    </tr>\n",
       "    <tr>\n",
       "      <th>649</th>\n",
       "      <td>take a card</td>\n",
       "      <td>take a card</td>\n",
       "    </tr>\n",
       "    <tr>\n",
       "      <th>74</th>\n",
       "      <td>keep quiet</td>\n",
       "      <td>keep quiet</td>\n",
       "    </tr>\n",
       "    <tr>\n",
       "      <th>142</th>\n",
       "      <td>are we ready</td>\n",
       "      <td>were ready</td>\n",
       "    </tr>\n",
       "    <tr>\n",
       "      <th>156</th>\n",
       "      <td>learn french</td>\n",
       "      <td>speak up</td>\n",
       "    </tr>\n",
       "    <tr>\n",
       "      <th>192</th>\n",
       "      <td>i need a map</td>\n",
       "      <td>i need a map</td>\n",
       "    </tr>\n",
       "    <tr>\n",
       "      <th>36</th>\n",
       "      <td>fill it up</td>\n",
       "      <td>fill is art</td>\n",
       "    </tr>\n",
       "    <tr>\n",
       "      <th>25</th>\n",
       "      <td>talk to me</td>\n",
       "      <td>talk to me</td>\n",
       "    </tr>\n",
       "    <tr>\n",
       "      <th>235</th>\n",
       "      <td>let me out</td>\n",
       "      <td>let me out</td>\n",
       "    </tr>\n",
       "  </tbody>\n",
       "</table>\n",
       "</div>"
      ],
      "text/plain": [
       "           actual       predicted\n",
       "761    im a model     im a model \n",
       "287   im not sure    im not sure \n",
       "226   jump across   jump across  \n",
       "732     grab that     grab that  \n",
       "499  be realistic  be realistic  \n",
       "545   i love kids    i love kids \n",
       "331         smile         jump   \n",
       "649   take a card    take a card \n",
       "74     keep quiet    keep quiet  \n",
       "142  are we ready    were ready  \n",
       "156  learn french      speak up  \n",
       "192  i need a map    i need a map\n",
       "36     fill it up    fill is art \n",
       "25     talk to me     talk to me \n",
       "235    let me out     let me out "
      ]
     },
     "execution_count": 72,
     "metadata": {},
     "output_type": "execute_result"
    }
   ],
   "source": [
    "pred_df.sample(15)"
   ]
  },
  {
   "cell_type": "code",
   "execution_count": null,
   "metadata": {},
   "outputs": [],
   "source": []
  }
 ],
 "metadata": {
  "kernelspec": {
   "display_name": "Python 3",
   "language": "python",
   "name": "python3"
  },
  "language_info": {
   "codemirror_mode": {
    "name": "ipython",
    "version": 3
   },
   "file_extension": ".py",
   "mimetype": "text/x-python",
   "name": "python",
   "nbconvert_exporter": "python",
   "pygments_lexer": "ipython3",
   "version": "3.8.3"
  }
 },
 "nbformat": 4,
 "nbformat_minor": 4
}
