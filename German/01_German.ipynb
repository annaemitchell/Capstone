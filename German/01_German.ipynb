{
 "cells": [
  {
   "cell_type": "markdown",
   "metadata": {},
   "source": [
    "# Capstone Project, by Anna Mitchell"
   ]
  },
  {
   "cell_type": "markdown",
   "metadata": {},
   "source": [
    "## Neural Machine Translation\n",
    "### English to German "
   ]
  },
  {
   "cell_type": "code",
   "execution_count": 1,
   "metadata": {},
   "outputs": [],
   "source": [
    "import collections\n",
    "import numpy as np\n",
    "import pandas as pd\n",
    "\n",
    "import string\n",
    "import re\n",
    "from pickle import dump\n",
    "from unicodedata import normalize\n",
    "from numpy import array\n",
    "import tensorflow as tf\n",
    "from keras.preprocessing.text import Tokenizer\n",
    "import matplotlib.pyplot as plt\n",
    "import warnings\n",
    "warnings.filterwarnings(\"ignore\")"
   ]
  },
  {
   "cell_type": "code",
   "execution_count": 2,
   "metadata": {},
   "outputs": [],
   "source": [
    "from pickle import load\n",
    "from numpy import array\n",
    "from keras.preprocessing.text import Tokenizer\n",
    "from keras.preprocessing.sequence import pad_sequences\n",
    "from keras.utils import to_categorical\n",
    "from keras.utils.vis_utils import plot_model\n",
    "from keras.models import Sequential\n",
    "from keras.layers import LSTM\n",
    "from keras.layers import Dense\n",
    "from keras.layers import Embedding\n",
    "from keras.layers import RepeatVector\n",
    "from keras.layers import TimeDistributed\n",
    "from keras.callbacks import ModelCheckpoint"
   ]
  },
  {
   "cell_type": "code",
   "execution_count": 3,
   "metadata": {},
   "outputs": [],
   "source": [
    "from numpy import argmax\n",
    "from keras.preprocessing.text import Tokenizer\n",
    "from keras.preprocessing.sequence import pad_sequences\n",
    "from keras.models import load_model\n",
    "from nltk.translate.bleu_score import corpus_bleu"
   ]
  },
  {
   "cell_type": "markdown",
   "metadata": {},
   "source": [
    "#### Sources "
   ]
  },
  {
   "cell_type": "code",
   "execution_count": 4,
   "metadata": {},
   "outputs": [],
   "source": [
    "#Code help and adaption for this project come from the following resources:\n",
    "\n",
    "#https://www.analyticsvidhya.com/blog/2019/01/neural-machine-translation-keras/\n",
    "#https://towardsdatascience.com/neural-machine-translation-with-python-c2f0a34f7dd\n",
    "#https://www.tensorflow.org/tutorials/text/nmt_with_attention\n",
    "#https://stackabuse.com/python-for-nlp-neural-machine-translation-with-seq2seq-in-keras/\n",
    "#https://google.github.io/seq2seq/nmt/\n",
    "#https://opennmt.net/\n",
    "#https://stackoverflow.com/questions/tagged/machine-translation"
   ]
  },
  {
   "cell_type": "markdown",
   "metadata": {},
   "source": [
    "### Clean Text"
   ]
  },
  {
   "cell_type": "code",
   "execution_count": 46,
   "metadata": {},
   "outputs": [],
   "source": [
    "# load doc into memory\n",
    "# load data to preserve unicode german characters, loads file as a blob of text\n",
    "def load_doc(filename):\n",
    "    # open the file as read only\n",
    "    file = open(filename, mode='rt', encoding='utf-8')\n",
    "    # read all text\n",
    "    text = file.read()\n",
    "    # close the file\n",
    "    file.close()\n",
    "    return text"
   ]
  },
  {
   "cell_type": "code",
   "execution_count": 47,
   "metadata": {},
   "outputs": [],
   "source": [
    "# split a loaded document into sentences\n",
    "def pairs(doc):\n",
    "    lines = doc.strip().split('\\n')\n",
    "    pairs = [line.split('\\t') for line in  lines]\n",
    "    return pairs"
   ]
  },
  {
   "cell_type": "code",
   "execution_count": 48,
   "metadata": {},
   "outputs": [],
   "source": [
    "# clean a list of lines\n",
    "# remove non printable characters\n",
    "# remove all punctuation characters\n",
    "# normalize all unicode characters to ASCII\n",
    "#normalize the case to lower\n",
    "#remove any remaining tokens that are not alphabetic \n",
    "#perform these operations on each phrase for each pair in the loaded dataset.\n",
    "\n",
    "def clean_pairs(lines):\n",
    "    cleaned = list()\n",
    "    # prepare regex for char filtering\n",
    "    re_print = re.compile('[^%s]' % re.escape(string.printable))\n",
    "    # prepare translation table for removing punctuation\n",
    "    table = str.maketrans('', '', string.punctuation)\n",
    "    for pair in lines:\n",
    "        clean_pair = list()\n",
    "        for line in pair:\n",
    "            # normalize unicode characters\n",
    "            line = normalize('NFD', line).encode('ascii', 'ignore')\n",
    "            line = line.decode('UTF-8')\n",
    "            # tokenize on white space\n",
    "            line = line.split()\n",
    "            # convert to lowercase\n",
    "            line = [word.lower() for word in line]\n",
    "            # remove punctuation from each token\n",
    "            line = [word.translate(table) for word in line]\n",
    "            # remove non-printable chars form each token\n",
    "            line = [re_print.sub('', w) for w in line]\n",
    "            # remove tokens with numbers in them\n",
    "            line = [word for word in line if word.isalpha()]\n",
    "            # store as string\n",
    "            clean_pair.append(' '.join(line))\n",
    "        cleaned.append(clean_pair)\n",
    "    return array(cleaned)"
   ]
  },
  {
   "cell_type": "code",
   "execution_count": 49,
   "metadata": {},
   "outputs": [],
   "source": [
    "# save a list of clean sentences to file\n",
    "def clean_data(sentences, filename):\n",
    "    dump(sentences, open(filename, 'wb'))\n",
    "    print('Saved: %s' % filename)"
   ]
  },
  {
   "cell_type": "markdown",
   "metadata": {},
   "source": [
    "#### Dataset Source: http://www.manythings.org/"
   ]
  },
  {
   "cell_type": "code",
   "execution_count": 50,
   "metadata": {},
   "outputs": [
    {
     "name": "stdout",
     "output_type": "stream",
     "text": [
      "Saved: english-german.pkl\n"
     ]
    }
   ],
   "source": [
    "# load dataset\n",
    "filename = 'deu1.txt'\n",
    "doc = load_doc(filename)\n",
    "# split into english-german pairs\n",
    "pairs = pairs(doc)\n",
    "# clean sentences\n",
    "clean_pairs = clean_pairs(pairs)\n",
    "# save clean pairs to file\n",
    "clean_data(clean_pairs, 'english-german.pkl')"
   ]
  },
  {
   "cell_type": "code",
   "execution_count": 51,
   "metadata": {},
   "outputs": [
    {
     "name": "stdout",
     "output_type": "stream",
     "text": [
      "[go] => [geh]\n",
      "[hi] => [hallo]\n",
      "[hi] => [gru gott]\n",
      "[run] => [lauf]\n",
      "[run] => [lauf]\n",
      "[wow] => [potzdonner]\n",
      "[wow] => [donnerwetter]\n",
      "[fire] => [feuer]\n",
      "[help] => [hilfe]\n",
      "[help] => [zu hulf]\n",
      "[stop] => [stopp]\n",
      "[wait] => [warte]\n",
      "[wait] => [warte]\n",
      "[begin] => [fang an]\n",
      "[go on] => [mach weiter]\n",
      "[hello] => [hallo]\n",
      "[hurry] => [beeil dich]\n",
      "[hurry] => [schnell]\n",
      "[i hid] => [ich versteckte mich]\n",
      "[i hid] => [ich habe mich versteckt]\n",
      "[i ran] => [ich rannte]\n",
      "[i see] => [ich verstehe]\n",
      "[i see] => [aha]\n",
      "[i try] => [ich probiere es]\n",
      "[i won] => [ich hab gewonnen]\n",
      "[i won] => [ich habe gewonnen]\n",
      "[relax] => [entspann dich]\n",
      "[shoot] => [feuer]\n",
      "[shoot] => [schie]\n",
      "[smile] => [lacheln]\n",
      "[ask me] => [frag mich]\n",
      "[ask me] => [fragt mich]\n",
      "[ask me] => [fragen sie mich]\n",
      "[attack] => [angriff]\n",
      "[attack] => [attacke]\n",
      "[cheers] => [zum wohl]\n",
      "[eat it] => [iss es]\n",
      "[eat up] => [iss auf]\n",
      "[eat up] => [iss auf]\n",
      "[freeze] => [keine bewegung]\n",
      "[freeze] => [stehenbleiben]\n",
      "[go now] => [geh jetzt]\n",
      "[got it] => [verstanden]\n",
      "[got it] => [aha]\n",
      "[got it] => [ich habs]\n",
      "[got it] => [kapiert]\n",
      "[got it] => [verstanden]\n",
      "[got it] => [einverstanden]\n",
      "[he ran] => [er rannte]\n",
      "[he ran] => [er lief]\n"
     ]
    }
   ],
   "source": [
    "# check if working\n",
    "for i in range(50):\n",
    "    print('[%s] => [%s]' % (clean_pairs[i,0], clean_pairs[i,1]))"
   ]
  },
  {
   "cell_type": "markdown",
   "metadata": {},
   "source": [
    "### Split Text"
   ]
  },
  {
   "cell_type": "code",
   "execution_count": 52,
   "metadata": {},
   "outputs": [
    {
     "name": "stdout",
     "output_type": "stream",
     "text": [
      "Saved: english-german-both.pkl\n",
      "Saved: english-german-train.pkl\n",
      "Saved: english-german-test.pkl\n"
     ]
    }
   ],
   "source": [
    "from pickle import load\n",
    "from pickle import dump\n",
    "from numpy.random import rand\n",
    "from numpy.random import shuffle\n",
    "\n",
    "# load a clean dataset\n",
    "def load_clean_sentences(filename):\n",
    "    return load(open(filename, 'rb'))\n",
    "\n",
    "# save a list of clean sentences to file\n",
    "def clean_data(sentences, filename):\n",
    "    dump(sentences, open(filename, 'wb'))\n",
    "    print('Saved: %s' % filename)\n",
    "\n",
    "# load dataset\n",
    "raw_dataset = load_clean_sentences('english-german.pkl')\n",
    "\n",
    "# reduce dataset size\n",
    "n_sentences = 10000\n",
    "dataset = raw_dataset[:n_sentences, :]\n",
    "# random shuffle\n",
    "shuffle(dataset)\n",
    "# split into train/test\n",
    "train, test = dataset[:9000], dataset[9000:]\n",
    "# save\n",
    "clean_data(dataset, 'english-german-both.pkl')\n",
    "clean_data(train, 'english-german-train.pkl')\n",
    "clean_data(test, 'english-german-test.pkl')\n",
    "\n",
    "#both.pkl - contains all of the train and test examples that we can use to \n",
    "#-> define the parameters of the problem, such a smax phrase lengths and the vocab\n",
    "# train.pkl and test.pkl - train and test dataset "
   ]
  },
  {
   "cell_type": "markdown",
   "metadata": {},
   "source": [
    "#### Text to Sequence Conversion"
   ]
  },
  {
   "cell_type": "code",
   "execution_count": 53,
   "metadata": {},
   "outputs": [],
   "source": [
    "# function to read raw text file\n",
    "def read_text(filename):\n",
    "    # open the file\n",
    "    file = open(filename, mode='rt', encoding='utf-8')\n",
    "    # read all text\n",
    "    text = file.read()\n",
    "    file.close()\n",
    "    return text"
   ]
  },
  {
   "cell_type": "code",
   "execution_count": 54,
   "metadata": {},
   "outputs": [],
   "source": [
    "# split a text into sentences\n",
    "def to_lines(text):\n",
    "    sents = text.strip().split('\\n')\n",
    "    sents = [i.split('\\t') for i in sents]\n",
    "    return sents"
   ]
  },
  {
   "cell_type": "code",
   "execution_count": 55,
   "metadata": {},
   "outputs": [],
   "source": [
    "data = read_text(\"deu1.txt\")\n",
    "ger_eng = to_lines(data)\n",
    "ger_eng = array(ger_eng)"
   ]
  },
  {
   "cell_type": "code",
   "execution_count": 56,
   "metadata": {},
   "outputs": [],
   "source": [
    "ger_eng = ger_eng[:50000,:]"
   ]
  },
  {
   "cell_type": "code",
   "execution_count": 57,
   "metadata": {},
   "outputs": [],
   "source": [
    "# Remove punctuation\n",
    "ger_eng[:,0] = [s.translate(str.maketrans('', '', string.punctuation)) for s in ger_eng[:,0]]\n",
    "ger_eng[:,1] = [s.translate(str.maketrans('', '', string.punctuation)) for s in ger_eng[:,1]]"
   ]
  },
  {
   "cell_type": "code",
   "execution_count": 58,
   "metadata": {},
   "outputs": [],
   "source": [
    "# convert to lowercase\n",
    "for i in range(len(ger_eng)):\n",
    "    ger_eng[i,0] = ger_eng[i,0].lower()\n",
    "    \n",
    "    ger_eng[i,1] = ger_eng[i,1].lower()"
   ]
  },
  {
   "cell_type": "code",
   "execution_count": 59,
   "metadata": {},
   "outputs": [],
   "source": [
    "# empty lists\n",
    "eng_l = []\n",
    "ger_l = []\n",
    "\n",
    "# populate the lists with sentence lengths\n",
    "for i in ger_eng[:,0]:\n",
    "    eng_l.append(len(i.split()))\n",
    "\n",
    "for i in ger_eng[:,1]:\n",
    "    ger_l.append(len(i.split()))"
   ]
  },
  {
   "cell_type": "code",
   "execution_count": 60,
   "metadata": {},
   "outputs": [],
   "source": [
    "length_df = pd.DataFrame({'english':eng_l, 'german':ger_l})"
   ]
  },
  {
   "cell_type": "code",
   "execution_count": 61,
   "metadata": {},
   "outputs": [
    {
     "data": {
      "image/png": "[encoded data removed]",
      "text/plain": [
       "<Figure size 432x288 with 2 Axes>"
      ]
     },
     "metadata": {
      "needs_background": "light"
     },
     "output_type": "display_data"
    }
   ],
   "source": [
    "length_df.hist(bins = 30)\n",
    "plt.show()"
   ]
  },
  {
   "cell_type": "code",
   "execution_count": 62,
   "metadata": {},
   "outputs": [],
   "source": [
    "#Maximum length of German: 11\n",
    "#Maxiumum lenght of English: 6"
   ]
  },
  {
   "cell_type": "code",
   "execution_count": 63,
   "metadata": {},
   "outputs": [],
   "source": [
    "# function to build a tokenizer\n",
    "def tokenization(lines):\n",
    "    tokenizer = Tokenizer()\n",
    "    tokenizer.fit_on_texts(lines)\n",
    "    return tokenizer"
   ]
  },
  {
   "cell_type": "code",
   "execution_count": 64,
   "metadata": {},
   "outputs": [
    {
     "name": "stdout",
     "output_type": "stream",
     "text": [
      "English Vocabulary Size: 6243\n"
     ]
    }
   ],
   "source": [
    "# english tokenizer\n",
    "eng_tokenizer = tokenization(ger_eng[:, 0])\n",
    "eng_vocab_size = len(eng_tokenizer.word_index) + 1\n",
    "\n",
    "eng_length = 8\n",
    "print('English Vocabulary Size: %d' % eng_vocab_size)"
   ]
  },
  {
   "cell_type": "code",
   "execution_count": 65,
   "metadata": {},
   "outputs": [
    {
     "name": "stdout",
     "output_type": "stream",
     "text": [
      "German Vocabulary Size: 10329\n"
     ]
    }
   ],
   "source": [
    "# German tokenizer\n",
    "ger_tokenizer = tokenization(ger_eng[:, 1])\n",
    "ger_vocab_size = len(ger_tokenizer.word_index) + 1\n",
    "\n",
    "ger_length = 8\n",
    "print('German Vocabulary Size: %d' % ger_vocab_size)"
   ]
  },
  {
   "cell_type": "markdown",
   "metadata": {},
   "source": [
    "### Train Neural Translation Model"
   ]
  },
  {
   "cell_type": "markdown",
   "metadata": {},
   "source": [
    "* Optimizer: rmsprop \n",
    "* Loss: categorical_crossentropy\n",
    "* Epochs: 30\n",
    "* Batch size: 64"
   ]
  },
  {
   "cell_type": "code",
   "execution_count": 66,
   "metadata": {},
   "outputs": [],
   "source": [
    "#develop neural translation model\n",
    "#load and prepare clean text data ready for modeling and define and train the model\n",
    "#-> on the prepared data "
   ]
  },
  {
   "cell_type": "code",
   "execution_count": 67,
   "metadata": {},
   "outputs": [],
   "source": [
    "#code adapted from https://medium.com/@umerfarooq_26378/neural-machine-translation-with-code-68c425044bbd"
   ]
  },
  {
   "cell_type": "code",
   "execution_count": 77,
   "metadata": {},
   "outputs": [
    {
     "name": "stdout",
     "output_type": "stream",
     "text": [
      "English Vocabulary Size: 2241\n",
      "English Max Length: 5\n",
      "German Vocabulary Size: 3572\n",
      "German Max Length: 9\n",
      "Model: \"sequential_2\"\n",
      "_________________________________________________________________\n",
      "Layer (type)                 Output Shape              Param #   \n",
      "=================================================================\n",
      "embedding_2 (Embedding)      (None, 9, 256)            914432    \n",
      "_________________________________________________________________\n",
      "lstm_4 (LSTM)                (None, 256)               525312    \n",
      "_________________________________________________________________\n",
      "repeat_vector_2 (RepeatVecto (None, 5, 256)            0         \n",
      "_________________________________________________________________\n",
      "lstm_5 (LSTM)                (None, 5, 256)            525312    \n",
      "_________________________________________________________________\n",
      "time_distributed_2 (TimeDist (None, 5, 2241)           575937    \n",
      "=================================================================\n",
      "Total params: 2,540,993\n",
      "Trainable params: 2,540,993\n",
      "Non-trainable params: 0\n",
      "_________________________________________________________________\n",
      "None\n",
      "Epoch 1/30\n",
      "\n",
      "Epoch 00001: val_loss improved from inf to 3.36010, saving model to model.h5\n",
      "141/141 - 9s - loss: 4.1092 - accuracy: 0.4520 - val_loss: 3.3601 - val_accuracy: 0.4748\n",
      "Epoch 2/30\n",
      "\n",
      "Epoch 00002: val_loss improved from 3.36010 to 3.22749, saving model to model.h5\n",
      "141/141 - 8s - loss: 3.2078 - accuracy: 0.4819 - val_loss: 3.2275 - val_accuracy: 0.4856\n",
      "Epoch 3/30\n",
      "\n",
      "Epoch 00003: val_loss improved from 3.22749 to 3.14786, saving model to model.h5\n",
      "141/141 - 8s - loss: 3.0682 - accuracy: 0.4934 - val_loss: 3.1479 - val_accuracy: 0.4914\n",
      "Epoch 4/30\n",
      "\n",
      "Epoch 00004: val_loss improved from 3.14786 to 3.00237, saving model to model.h5\n",
      "141/141 - 8s - loss: 2.9256 - accuracy: 0.5087 - val_loss: 3.0024 - val_accuracy: 0.5116\n",
      "Epoch 5/30\n",
      "\n",
      "Epoch 00005: val_loss improved from 3.00237 to 2.89640, saving model to model.h5\n",
      "141/141 - 8s - loss: 2.7595 - accuracy: 0.5271 - val_loss: 2.8964 - val_accuracy: 0.5292\n",
      "Epoch 6/30\n",
      "\n",
      "Epoch 00006: val_loss improved from 2.89640 to 2.79939, saving model to model.h5\n",
      "141/141 - 8s - loss: 2.6155 - accuracy: 0.5459 - val_loss: 2.7994 - val_accuracy: 0.5424\n",
      "Epoch 7/30\n",
      "\n",
      "Epoch 00007: val_loss improved from 2.79939 to 2.71499, saving model to model.h5\n",
      "141/141 - 8s - loss: 2.4760 - accuracy: 0.5659 - val_loss: 2.7150 - val_accuracy: 0.5576\n",
      "Epoch 8/30\n",
      "\n",
      "Epoch 00008: val_loss improved from 2.71499 to 2.61137, saving model to model.h5\n",
      "141/141 - 8s - loss: 2.3457 - accuracy: 0.5812 - val_loss: 2.6114 - val_accuracy: 0.5754\n",
      "Epoch 9/30\n",
      "\n",
      "Epoch 00009: val_loss improved from 2.61137 to 2.51923, saving model to model.h5\n",
      "141/141 - 8s - loss: 2.2078 - accuracy: 0.6002 - val_loss: 2.5192 - val_accuracy: 0.5902\n",
      "Epoch 10/30\n",
      "\n",
      "Epoch 00010: val_loss improved from 2.51923 to 2.42930, saving model to model.h5\n",
      "141/141 - 8s - loss: 2.0735 - accuracy: 0.6154 - val_loss: 2.4293 - val_accuracy: 0.5982\n",
      "Epoch 11/30\n",
      "\n",
      "Epoch 00011: val_loss improved from 2.42930 to 2.37121, saving model to model.h5\n",
      "141/141 - 8s - loss: 1.9418 - accuracy: 0.6299 - val_loss: 2.3712 - val_accuracy: 0.6082\n",
      "Epoch 12/30\n",
      "\n",
      "Epoch 00012: val_loss improved from 2.37121 to 2.29943, saving model to model.h5\n",
      "141/141 - 8s - loss: 1.8184 - accuracy: 0.6459 - val_loss: 2.2994 - val_accuracy: 0.6154\n",
      "Epoch 13/30\n",
      "\n",
      "Epoch 00013: val_loss improved from 2.29943 to 2.21989, saving model to model.h5\n",
      "141/141 - 8s - loss: 1.7027 - accuracy: 0.6600 - val_loss: 2.2199 - val_accuracy: 0.6304\n",
      "Epoch 14/30\n",
      "\n",
      "Epoch 00014: val_loss improved from 2.21989 to 2.17176, saving model to model.h5\n",
      "141/141 - 8s - loss: 1.5901 - accuracy: 0.6759 - val_loss: 2.1718 - val_accuracy: 0.6352\n",
      "Epoch 15/30\n",
      "\n",
      "Epoch 00015: val_loss improved from 2.17176 to 2.12355, saving model to model.h5\n",
      "141/141 - 8s - loss: 1.4872 - accuracy: 0.6903 - val_loss: 2.1236 - val_accuracy: 0.6484\n",
      "Epoch 16/30\n",
      "\n",
      "Epoch 00016: val_loss improved from 2.12355 to 2.08348, saving model to model.h5\n",
      "141/141 - 8s - loss: 1.3831 - accuracy: 0.7068 - val_loss: 2.0835 - val_accuracy: 0.6568\n",
      "Epoch 17/30\n",
      "\n",
      "Epoch 00017: val_loss improved from 2.08348 to 2.05234, saving model to model.h5\n",
      "141/141 - 8s - loss: 1.2868 - accuracy: 0.7216 - val_loss: 2.0523 - val_accuracy: 0.6598\n",
      "Epoch 18/30\n",
      "\n",
      "Epoch 00018: val_loss improved from 2.05234 to 2.01397, saving model to model.h5\n",
      "141/141 - 8s - loss: 1.1923 - accuracy: 0.7370 - val_loss: 2.0140 - val_accuracy: 0.6660\n",
      "Epoch 19/30\n",
      "\n",
      "Epoch 00019: val_loss improved from 2.01397 to 1.98334, saving model to model.h5\n",
      "141/141 - 8s - loss: 1.1067 - accuracy: 0.7531 - val_loss: 1.9833 - val_accuracy: 0.6668\n",
      "Epoch 20/30\n",
      "\n",
      "Epoch 00020: val_loss improved from 1.98334 to 1.93694, saving model to model.h5\n",
      "141/141 - 8s - loss: 1.0178 - accuracy: 0.7686 - val_loss: 1.9369 - val_accuracy: 0.6812\n",
      "Epoch 21/30\n",
      "\n",
      "Epoch 00021: val_loss improved from 1.93694 to 1.93170, saving model to model.h5\n",
      "141/141 - 8s - loss: 0.9368 - accuracy: 0.7874 - val_loss: 1.9317 - val_accuracy: 0.6810\n",
      "Epoch 22/30\n",
      "\n",
      "Epoch 00022: val_loss improved from 1.93170 to 1.90096, saving model to model.h5\n",
      "141/141 - 8s - loss: 0.8612 - accuracy: 0.8018 - val_loss: 1.9010 - val_accuracy: 0.6820\n",
      "Epoch 23/30\n",
      "\n",
      "Epoch 00023: val_loss improved from 1.90096 to 1.89837, saving model to model.h5\n",
      "141/141 - 8s - loss: 0.7929 - accuracy: 0.8160 - val_loss: 1.8984 - val_accuracy: 0.6852\n",
      "Epoch 24/30\n",
      "\n",
      "Epoch 00024: val_loss improved from 1.89837 to 1.86756, saving model to model.h5\n",
      "141/141 - 8s - loss: 0.7263 - accuracy: 0.8333 - val_loss: 1.8676 - val_accuracy: 0.6972\n",
      "Epoch 25/30\n",
      "\n",
      "Epoch 00025: val_loss improved from 1.86756 to 1.85190, saving model to model.h5\n",
      "141/141 - 8s - loss: 0.6656 - accuracy: 0.8460 - val_loss: 1.8519 - val_accuracy: 0.6928\n",
      "Epoch 26/30\n",
      "\n",
      "Epoch 00026: val_loss improved from 1.85190 to 1.84896, saving model to model.h5\n",
      "141/141 - 8s - loss: 0.6063 - accuracy: 0.8608 - val_loss: 1.8490 - val_accuracy: 0.7004\n",
      "Epoch 27/30\n",
      "\n",
      "Epoch 00027: val_loss improved from 1.84896 to 1.83573, saving model to model.h5\n",
      "141/141 - 8s - loss: 0.5557 - accuracy: 0.8708 - val_loss: 1.8357 - val_accuracy: 0.7048\n",
      "Epoch 28/30\n",
      "\n",
      "Epoch 00028: val_loss improved from 1.83573 to 1.83056, saving model to model.h5\n",
      "141/141 - 8s - loss: 0.5062 - accuracy: 0.8840 - val_loss: 1.8306 - val_accuracy: 0.7002\n",
      "Epoch 29/30\n",
      "\n",
      "Epoch 00029: val_loss improved from 1.83056 to 1.82371, saving model to model.h5\n",
      "141/141 - 8s - loss: 0.4629 - accuracy: 0.8925 - val_loss: 1.8237 - val_accuracy: 0.7066\n",
      "Epoch 30/30\n",
      "\n",
      "Epoch 00030: val_loss did not improve from 1.82371\n",
      "141/141 - 8s - loss: 0.4236 - accuracy: 0.9015 - val_loss: 1.8260 - val_accuracy: 0.7110\n"
     ]
    }
   ],
   "source": [
    "# load a clean dataset\n",
    "def load_clean_sentences(filename):\n",
    "    return load(open(filename, 'rb'))\n",
    " \n",
    "# fit a tokenizer\n",
    "def create_tokenizer(lines):\n",
    "    tokenizer = Tokenizer()\n",
    "    tokenizer.fit_on_texts(lines)\n",
    "    return tokenizer\n",
    " \n",
    "# max sentence length\n",
    "def max_length(lines):\n",
    "    return max(len(line.split()) for line in lines)\n",
    " \n",
    "# encode and pad sequences\n",
    "def encode_sequences(tokenizer, length, lines):\n",
    "    # integer encode sequences\n",
    "    X = tokenizer.texts_to_sequences(lines)\n",
    "    # pad sequences with 0 values\n",
    "    X = pad_sequences(X, maxlen=length, padding='post')\n",
    "    return X\n",
    " \n",
    "# one hot encode target sequence\n",
    "def encode_output(sequences, vocab_size):\n",
    "    ylist = list()\n",
    "    for sequence in sequences:\n",
    "        encoded = to_categorical(sequence, num_classes=vocab_size)\n",
    "        ylist.append(encoded)\n",
    "    y = array(ylist)\n",
    "    y = y.reshape(sequences.shape[0], sequences.shape[1], vocab_size)\n",
    "    return y\n",
    " \n",
    "# define NMT model\n",
    "def define_model(src_vocab, tar_vocab, src_timesteps, tar_timesteps, n_units):\n",
    "    model = Sequential()\n",
    "    model.add(Embedding(src_vocab, n_units, input_length=src_timesteps, mask_zero=True))\n",
    "    #core layer, encodes the input by indices \n",
    "    #If mask_zero is set to True, as a consequence, index 0 cannot be used in the vocabulary (input_dim should equal size of vocabulary + 1) per keras library.\n",
    "    model.add(LSTM(n_units))\n",
    "    #recurrent layer to choose different implementation to maximize performance \n",
    "    model.add(RepeatVector(tar_timesteps))\n",
    "    #reshaping layer to repeat the input by a specific amount of times \n",
    "    model.add(LSTM(n_units, return_sequences=True))\n",
    "     #recurrent layer to choose different implementation to maximize performance \n",
    "    model.add(TimeDistributed(Dense(tar_vocab, activation='softmax')))\n",
    "    #activation layer, wrapper to apply a layer to every temporal slice of an input \n",
    "    return model\n",
    " \n",
    "# load datasets\n",
    "dataset = load_clean_sentences('english-german-both.pkl')\n",
    "train = load_clean_sentences('english-german-train.pkl')\n",
    "test = load_clean_sentences('english-german-test.pkl')\n",
    " \n",
    "# prepare english tokenizer\n",
    "eng_tokenizer = create_tokenizer(dataset[:, 0])\n",
    "eng_vocab_size = len(eng_tokenizer.word_index) + 1\n",
    "eng_length = max_length(dataset[:, 0])\n",
    "print('English Vocabulary Size: %d' % eng_vocab_size)\n",
    "print('English Max Length: %d' % (eng_length))\n",
    "# prepare german tokenizer\n",
    "ger_tokenizer = create_tokenizer(dataset[:, 1])\n",
    "ger_vocab_size = len(ger_tokenizer.word_index) + 1\n",
    "ger_length = max_length(dataset[:, 1])\n",
    "print('German Vocabulary Size: %d' % ger_vocab_size)\n",
    "print('German Max Length: %d' % (ger_length))\n",
    " \n",
    "# prepare training data\n",
    "trainX = encode_sequences(ger_tokenizer, ger_length, train[:, 1])\n",
    "trainY = encode_sequences(eng_tokenizer, eng_length, train[:, 0])\n",
    "trainY = encode_output(trainY, eng_vocab_size)\n",
    "# prepare validation data\n",
    "testX = encode_sequences(ger_tokenizer, ger_length, test[:, 1])\n",
    "testY = encode_sequences(eng_tokenizer, eng_length, test[:, 0])\n",
    "testY = encode_output(testY, eng_vocab_size)\n",
    " \n",
    "# define model\n",
    "model = define_model(ger_vocab_size, eng_vocab_size, ger_length, eng_length, 256)\n",
    "model.compile(optimizer='rmsprop', loss='categorical_crossentropy', metrics=[\"accuracy\"])\n",
    "# summarize defined model\n",
    "print(model.summary())\n",
    "#plot_model(model, to_file='model.png', show_shapes=True)\n",
    "\n",
    "# fit model\n",
    "filename = 'model.h5'\n",
    "checkpoint = ModelCheckpoint(filename, monitor='val_loss', verbose=1, save_best_only=True, mode='min')\n",
    "history = model.fit(trainX, trainY, epochs=30, batch_size=64, validation_data=(testX, testY), callbacks=[checkpoint], verbose=2)"
   ]
  },
  {
   "cell_type": "code",
   "execution_count": 89,
   "metadata": {},
   "outputs": [
    {
     "data": {
      "text/plain": [
       "[0.36544615030288696, 0.9199555516242981]"
      ]
     },
     "execution_count": 89,
     "metadata": {},
     "output_type": "execute_result"
    }
   ],
   "source": [
    "results = model.evaluate(trainX, trainY, verbose=0)\n",
    "results"
   ]
  },
  {
   "cell_type": "code",
   "execution_count": 79,
   "metadata": {},
   "outputs": [],
   "source": [
    "#Accuracy of 92%"
   ]
  },
  {
   "cell_type": "markdown",
   "metadata": {},
   "source": [
    "### Display loss and accuracy"
   ]
  },
  {
   "cell_type": "markdown",
   "metadata": {},
   "source": [
    "#### Plot the training and validation loss"
   ]
  },
  {
   "cell_type": "code",
   "execution_count": 80,
   "metadata": {},
   "outputs": [],
   "source": [
    "loss = history.history['loss']\n",
    "val_loss = history.history['val_loss']"
   ]
  },
  {
   "cell_type": "code",
   "execution_count": 81,
   "metadata": {},
   "outputs": [],
   "source": [
    "epochs = range(1, len(loss) + 1)"
   ]
  },
  {
   "cell_type": "code",
   "execution_count": 82,
   "metadata": {},
   "outputs": [
    {
     "data": {
      "image/png": "[encoded data removed]",
      "text/plain": [
       "<Figure size 432x288 with 1 Axes>"
      ]
     },
     "metadata": {
      "needs_background": "light"
     },
     "output_type": "display_data"
    }
   ],
   "source": [
    "plt.plot(epochs, loss, 'bo', label='Training loss')\n",
    "plt.plot(epochs, val_loss, 'b', label='Validation loss')\n",
    "plt.title('Training and validation loss')\n",
    "plt.xlabel('Epochs')\n",
    "plt.ylabel('Loss')\n",
    "plt.legend();"
   ]
  },
  {
   "cell_type": "markdown",
   "metadata": {},
   "source": [
    "#### Plot the training and validation accuracy"
   ]
  },
  {
   "cell_type": "code",
   "execution_count": 86,
   "metadata": {},
   "outputs": [
    {
     "data": {
      "text/plain": [
       "<Figure size 432x288 with 0 Axes>"
      ]
     },
     "metadata": {},
     "output_type": "display_data"
    }
   ],
   "source": [
    "#clear the figure, palette cleanser, if you will :)\n",
    "plt.clf();"
   ]
  },
  {
   "cell_type": "code",
   "execution_count": 87,
   "metadata": {},
   "outputs": [],
   "source": [
    "acc = history.history['accuracy']\n",
    "val_acc = history.history['val_accuracy']"
   ]
  },
  {
   "cell_type": "code",
   "execution_count": 88,
   "metadata": {},
   "outputs": [
    {
     "data": {
      "image/png": "[encoded data removed]",
      "text/plain": [
       "<Figure size 432x288 with 1 Axes>"
      ]
     },
     "metadata": {
      "needs_background": "light"
     },
     "output_type": "display_data"
    }
   ],
   "source": [
    "plt.plot(epochs, acc, 'bo', label='Training accuracy')\n",
    "plt.plot(epochs, val_acc, 'b', label='Validation accuracy')\n",
    "plt.title('Training and validation loss')\n",
    "plt.xlabel('Epochs')\n",
    "plt.ylabel('Loss')\n",
    "plt.legend();"
   ]
  },
  {
   "cell_type": "markdown",
   "metadata": {},
   "source": [
    "### Train again"
   ]
  },
  {
   "cell_type": "markdown",
   "metadata": {},
   "source": [
    "* Optimizer: Adam \n",
    "* Loss: categorical_crossentropy\n",
    "* Epochs: 10\n",
    "* Batch size: 80"
   ]
  },
  {
   "cell_type": "code",
   "execution_count": 93,
   "metadata": {},
   "outputs": [
    {
     "name": "stdout",
     "output_type": "stream",
     "text": [
      "English Vocabulary Size: 2241\n",
      "English Max Length: 5\n",
      "German Vocabulary Size: 3572\n",
      "German Max Length: 9\n",
      "Model: \"sequential_4\"\n",
      "_________________________________________________________________\n",
      "Layer (type)                 Output Shape              Param #   \n",
      "=================================================================\n",
      "embedding_4 (Embedding)      (None, 9, 256)            914432    \n",
      "_________________________________________________________________\n",
      "lstm_8 (LSTM)                (None, 256)               525312    \n",
      "_________________________________________________________________\n",
      "repeat_vector_4 (RepeatVecto (None, 5, 256)            0         \n",
      "_________________________________________________________________\n",
      "lstm_9 (LSTM)                (None, 5, 256)            525312    \n",
      "_________________________________________________________________\n",
      "time_distributed_4 (TimeDist (None, 5, 2241)           575937    \n",
      "=================================================================\n",
      "Total params: 2,540,993\n",
      "Trainable params: 2,540,993\n",
      "Non-trainable params: 0\n",
      "_________________________________________________________________\n",
      "None\n",
      "Epoch 1/10\n",
      "\n",
      "Epoch 00001: val_loss improved from inf to 3.40185, saving model to model.h5\n",
      "113/113 - 8s - loss: 4.2968 - accuracy: 0.4457 - val_loss: 3.4018 - val_accuracy: 0.4674\n",
      "Epoch 2/10\n",
      "\n",
      "Epoch 00002: val_loss improved from 3.40185 to 3.24821, saving model to model.h5\n",
      "113/113 - 8s - loss: 3.2621 - accuracy: 0.4771 - val_loss: 3.2482 - val_accuracy: 0.4814\n",
      "Epoch 3/10\n",
      "\n",
      "Epoch 00003: val_loss improved from 3.24821 to 3.18525, saving model to model.h5\n",
      "113/113 - 7s - loss: 3.1225 - accuracy: 0.4873 - val_loss: 3.1852 - val_accuracy: 0.4868\n",
      "Epoch 4/10\n",
      "\n",
      "Epoch 00004: val_loss improved from 3.18525 to 3.12974, saving model to model.h5\n",
      "113/113 - 7s - loss: 3.0220 - accuracy: 0.4955 - val_loss: 3.1297 - val_accuracy: 0.4928\n",
      "Epoch 5/10\n",
      "\n",
      "Epoch 00005: val_loss improved from 3.12974 to 3.01949, saving model to model.h5\n",
      "113/113 - 7s - loss: 2.9002 - accuracy: 0.5134 - val_loss: 3.0195 - val_accuracy: 0.5132\n",
      "Epoch 6/10\n",
      "\n",
      "Epoch 00006: val_loss improved from 3.01949 to 2.91321, saving model to model.h5\n",
      "113/113 - 7s - loss: 2.7601 - accuracy: 0.5259 - val_loss: 2.9132 - val_accuracy: 0.5274\n",
      "Epoch 7/10\n",
      "\n",
      "Epoch 00007: val_loss improved from 2.91321 to 2.81564, saving model to model.h5\n",
      "113/113 - 7s - loss: 2.6219 - accuracy: 0.5466 - val_loss: 2.8156 - val_accuracy: 0.5480\n",
      "Epoch 8/10\n",
      "\n",
      "Epoch 00008: val_loss improved from 2.81564 to 2.72723, saving model to model.h5\n",
      "113/113 - 7s - loss: 2.4923 - accuracy: 0.5638 - val_loss: 2.7272 - val_accuracy: 0.5546\n",
      "Epoch 9/10\n",
      "\n",
      "Epoch 00009: val_loss improved from 2.72723 to 2.63947, saving model to model.h5\n",
      "113/113 - 7s - loss: 2.3688 - accuracy: 0.5782 - val_loss: 2.6395 - val_accuracy: 0.5672\n",
      "Epoch 10/10\n",
      "\n",
      "Epoch 00010: val_loss improved from 2.63947 to 2.58313, saving model to model.h5\n",
      "113/113 - 7s - loss: 2.2509 - accuracy: 0.5932 - val_loss: 2.5831 - val_accuracy: 0.5770\n"
     ]
    }
   ],
   "source": [
    "# load a clean dataset\n",
    "def load_clean_sentences(filename):\n",
    "    return load(open(filename, 'rb'))\n",
    " \n",
    "# fit a tokenizer\n",
    "def create_tokenizer(lines):\n",
    "    tokenizer = Tokenizer()\n",
    "    tokenizer.fit_on_texts(lines)\n",
    "    return tokenizer\n",
    " \n",
    "# max sentence length\n",
    "def max_length(lines):\n",
    "    return max(len(line.split()) for line in lines)\n",
    " \n",
    "# encode and pad sequences\n",
    "def encode_sequences(tokenizer, length, lines):\n",
    "    # integer encode sequences\n",
    "    X = tokenizer.texts_to_sequences(lines)\n",
    "    # pad sequences with 0 values\n",
    "    X = pad_sequences(X, maxlen=length, padding='post')\n",
    "    return X\n",
    " \n",
    "# one hot encode target sequence\n",
    "def encode_output(sequences, vocab_size):\n",
    "    ylist = list()\n",
    "    for sequence in sequences:\n",
    "        encoded = to_categorical(sequence, num_classes=vocab_size)\n",
    "        ylist.append(encoded)\n",
    "    y = array(ylist)\n",
    "    y = y.reshape(sequences.shape[0], sequences.shape[1], vocab_size)\n",
    "    return y\n",
    " \n",
    "# define NMT model\n",
    "def define_model(src_vocab, tar_vocab, src_timesteps, tar_timesteps, n_units):\n",
    "    model = Sequential()\n",
    "    model.add(Embedding(src_vocab, n_units, input_length=src_timesteps, mask_zero=True))\n",
    "    #core layer, encodes the input by indices \n",
    "    #If mask_zero is set to True, as a consequence, index 0 cannot be used in the vocabulary (input_dim should equal size of vocabulary + 1) per keras library.\n",
    "    model.add(LSTM(n_units))\n",
    "    #recurrent layer to choose different implementation to maximize performance \n",
    "    model.add(RepeatVector(tar_timesteps))\n",
    "    #reshaping layer to repeat the input by a specific amount of times \n",
    "    model.add(LSTM(n_units, return_sequences=True))\n",
    "     #recurrent layer to choose different implementation to maximize performance \n",
    "    model.add(TimeDistributed(Dense(tar_vocab, activation='softmax')))\n",
    "    #activation layer, wrapper to apply a layer to every temporal slice of an input \n",
    "    return model\n",
    " \n",
    "# load datasets\n",
    "dataset = load_clean_sentences('english-german-both.pkl')\n",
    "train = load_clean_sentences('english-german-train.pkl')\n",
    "test = load_clean_sentences('english-german-test.pkl')\n",
    " \n",
    "# prepare english tokenizer\n",
    "eng_tokenizer = create_tokenizer(dataset[:, 0])\n",
    "eng_vocab_size = len(eng_tokenizer.word_index) + 1\n",
    "eng_length = max_length(dataset[:, 0])\n",
    "print('English Vocabulary Size: %d' % eng_vocab_size)\n",
    "print('English Max Length: %d' % (eng_length))\n",
    "# prepare german tokenizer\n",
    "ger_tokenizer = create_tokenizer(dataset[:, 1])\n",
    "ger_vocab_size = len(ger_tokenizer.word_index) + 1\n",
    "ger_length = max_length(dataset[:, 1])\n",
    "print('German Vocabulary Size: %d' % ger_vocab_size)\n",
    "print('German Max Length: %d' % (ger_length))\n",
    " \n",
    "# prepare training data\n",
    "trainX = encode_sequences(ger_tokenizer, ger_length, train[:, 1])\n",
    "trainY = encode_sequences(eng_tokenizer, eng_length, train[:, 0])\n",
    "trainY = encode_output(trainY, eng_vocab_size)\n",
    "# prepare validation data\n",
    "testX = encode_sequences(ger_tokenizer, ger_length, test[:, 1])\n",
    "testY = encode_sequences(eng_tokenizer, eng_length, test[:, 0])\n",
    "testY = encode_output(testY, eng_vocab_size)\n",
    " \n",
    "# define model\n",
    "model = define_model(ger_vocab_size, eng_vocab_size, ger_length, eng_length, 256)\n",
    "model.compile(optimizer='adam', loss='categorical_crossentropy', metrics=[\"accuracy\"])\n",
    "# summarize defined model\n",
    "print(model.summary())\n",
    "#plot_model(model, to_file='model.png', show_shapes=True)\n",
    "\n",
    "# fit model\n",
    "filename = 'model.h5'\n",
    "checkpoint = ModelCheckpoint(filename, monitor='val_loss', verbose=1, save_best_only=True, mode='min')\n",
    "history2 = model.fit(trainX, trainY, epochs=10, batch_size=80, validation_data=(testX, testY), callbacks=[checkpoint], verbose=2)"
   ]
  },
  {
   "cell_type": "code",
   "execution_count": 94,
   "metadata": {},
   "outputs": [
    {
     "data": {
      "text/plain": [
       "[2.1415884494781494, 0.6006222367286682]"
      ]
     },
     "execution_count": 94,
     "metadata": {},
     "output_type": "execute_result"
    }
   ],
   "source": [
    "results = model.evaluate(trainX, trainY, verbose=0)\n",
    "results"
   ]
  },
  {
   "cell_type": "markdown",
   "metadata": {},
   "source": [
    "* Accurracy is way lower"
   ]
  },
  {
   "cell_type": "markdown",
   "metadata": {},
   "source": [
    "### Train again"
   ]
  },
  {
   "cell_type": "markdown",
   "metadata": {},
   "source": [
    "* Optimizer: rmsprop \n",
    "* Loss: categorical_crossentropy\n",
    "* Epochs: 50\n",
    "* Batch Size: 50"
   ]
  },
  {
   "cell_type": "code",
   "execution_count": 97,
   "metadata": {},
   "outputs": [
    {
     "name": "stdout",
     "output_type": "stream",
     "text": [
      "English Vocabulary Size: 2241\n",
      "English Max Length: 5\n",
      "German Vocabulary Size: 3572\n",
      "German Max Length: 9\n",
      "Model: \"sequential_5\"\n",
      "_________________________________________________________________\n",
      "Layer (type)                 Output Shape              Param #   \n",
      "=================================================================\n",
      "embedding_5 (Embedding)      (None, 9, 256)            914432    \n",
      "_________________________________________________________________\n",
      "lstm_10 (LSTM)               (None, 256)               525312    \n",
      "_________________________________________________________________\n",
      "repeat_vector_5 (RepeatVecto (None, 5, 256)            0         \n",
      "_________________________________________________________________\n",
      "lstm_11 (LSTM)               (None, 5, 256)            525312    \n",
      "_________________________________________________________________\n",
      "time_distributed_5 (TimeDist (None, 5, 2241)           575937    \n",
      "=================================================================\n",
      "Total params: 2,540,993\n",
      "Trainable params: 2,540,993\n",
      "Non-trainable params: 0\n",
      "_________________________________________________________________\n",
      "None\n",
      "Epoch 1/50\n",
      "\n",
      "Epoch 00001: val_loss improved from inf to 3.32308, saving model to model.h5\n",
      "180/180 - 11s - loss: 3.9845 - accuracy: 0.4542 - val_loss: 3.3231 - val_accuracy: 0.4744\n",
      "Epoch 2/50\n",
      "\n",
      "Epoch 00002: val_loss improved from 3.32308 to 3.20190, saving model to model.h5\n",
      "180/180 - 9s - loss: 3.1861 - accuracy: 0.4840 - val_loss: 3.2019 - val_accuracy: 0.4890\n",
      "Epoch 3/50\n",
      "\n",
      "Epoch 00003: val_loss improved from 3.20190 to 3.06746, saving model to model.h5\n",
      "180/180 - 9s - loss: 3.0237 - accuracy: 0.4956 - val_loss: 3.0675 - val_accuracy: 0.4940\n",
      "Epoch 4/50\n",
      "\n",
      "Epoch 00004: val_loss improved from 3.06746 to 2.92032, saving model to model.h5\n",
      "180/180 - 9s - loss: 2.8342 - accuracy: 0.5197 - val_loss: 2.9203 - val_accuracy: 0.5228\n",
      "Epoch 5/50\n",
      "\n",
      "Epoch 00005: val_loss improved from 2.92032 to 2.81819, saving model to model.h5\n",
      "180/180 - 9s - loss: 2.6668 - accuracy: 0.5388 - val_loss: 2.8182 - val_accuracy: 0.5440\n",
      "Epoch 6/50\n",
      "\n",
      "Epoch 00006: val_loss improved from 2.81819 to 2.70388, saving model to model.h5\n",
      "180/180 - 8s - loss: 2.5059 - accuracy: 0.5633 - val_loss: 2.7039 - val_accuracy: 0.5590\n",
      "Epoch 7/50\n",
      "\n",
      "Epoch 00007: val_loss improved from 2.70388 to 2.58578, saving model to model.h5\n",
      "180/180 - 9s - loss: 2.3496 - accuracy: 0.5823 - val_loss: 2.5858 - val_accuracy: 0.5726\n",
      "Epoch 8/50\n",
      "\n",
      "Epoch 00008: val_loss improved from 2.58578 to 2.48938, saving model to model.h5\n",
      "180/180 - 8s - loss: 2.1966 - accuracy: 0.5982 - val_loss: 2.4894 - val_accuracy: 0.5860\n",
      "Epoch 9/50\n",
      "\n",
      "Epoch 00009: val_loss improved from 2.48938 to 2.41359, saving model to model.h5\n",
      "180/180 - 8s - loss: 2.0519 - accuracy: 0.6160 - val_loss: 2.4136 - val_accuracy: 0.5984\n",
      "Epoch 10/50\n",
      "\n",
      "Epoch 00010: val_loss improved from 2.41359 to 2.32291, saving model to model.h5\n",
      "180/180 - 8s - loss: 1.9125 - accuracy: 0.6332 - val_loss: 2.3229 - val_accuracy: 0.6124\n",
      "Epoch 11/50\n",
      "\n",
      "Epoch 00011: val_loss improved from 2.32291 to 2.26633, saving model to model.h5\n",
      "180/180 - 8s - loss: 1.7756 - accuracy: 0.6513 - val_loss: 2.2663 - val_accuracy: 0.6176\n",
      "Epoch 12/50\n",
      "\n",
      "Epoch 00012: val_loss improved from 2.26633 to 2.20204, saving model to model.h5\n",
      "180/180 - 8s - loss: 1.6550 - accuracy: 0.6680 - val_loss: 2.2020 - val_accuracy: 0.6316\n",
      "Epoch 13/50\n",
      "\n",
      "Epoch 00013: val_loss improved from 2.20204 to 2.15638, saving model to model.h5\n",
      "180/180 - 8s - loss: 1.5369 - accuracy: 0.6849 - val_loss: 2.1564 - val_accuracy: 0.6386\n",
      "Epoch 14/50\n",
      "\n",
      "Epoch 00014: val_loss improved from 2.15638 to 2.09709, saving model to model.h5\n",
      "180/180 - 8s - loss: 1.4286 - accuracy: 0.6995 - val_loss: 2.0971 - val_accuracy: 0.6502\n",
      "Epoch 15/50\n",
      "\n",
      "Epoch 00015: val_loss improved from 2.09709 to 2.06712, saving model to model.h5\n",
      "180/180 - 8s - loss: 1.3237 - accuracy: 0.7164 - val_loss: 2.0671 - val_accuracy: 0.6524\n",
      "Epoch 16/50\n",
      "\n",
      "Epoch 00016: val_loss improved from 2.06712 to 2.02166, saving model to model.h5\n",
      "180/180 - 8s - loss: 1.2209 - accuracy: 0.7318 - val_loss: 2.0217 - val_accuracy: 0.6646\n",
      "Epoch 17/50\n",
      "\n",
      "Epoch 00017: val_loss improved from 2.02166 to 1.98264, saving model to model.h5\n",
      "180/180 - 8s - loss: 1.1236 - accuracy: 0.7496 - val_loss: 1.9826 - val_accuracy: 0.6690\n",
      "Epoch 18/50\n",
      "\n",
      "Epoch 00018: val_loss improved from 1.98264 to 1.94854, saving model to model.h5\n",
      "180/180 - 8s - loss: 1.0321 - accuracy: 0.7654 - val_loss: 1.9485 - val_accuracy: 0.6716\n",
      "Epoch 19/50\n",
      "\n",
      "Epoch 00019: val_loss improved from 1.94854 to 1.92665, saving model to model.h5\n",
      "180/180 - 8s - loss: 0.9426 - accuracy: 0.7829 - val_loss: 1.9267 - val_accuracy: 0.6766\n",
      "Epoch 20/50\n",
      "\n",
      "Epoch 00020: val_loss improved from 1.92665 to 1.89559, saving model to model.h5\n",
      "180/180 - 8s - loss: 0.8587 - accuracy: 0.8007 - val_loss: 1.8956 - val_accuracy: 0.6878\n",
      "Epoch 21/50\n",
      "\n",
      "Epoch 00021: val_loss improved from 1.89559 to 1.86503, saving model to model.h5\n",
      "180/180 - 9s - loss: 0.7798 - accuracy: 0.8184 - val_loss: 1.8650 - val_accuracy: 0.6922\n",
      "Epoch 22/50\n",
      "\n",
      "Epoch 00022: val_loss improved from 1.86503 to 1.86386, saving model to model.h5\n",
      "180/180 - 9s - loss: 0.7085 - accuracy: 0.8346 - val_loss: 1.8639 - val_accuracy: 0.6946\n",
      "Epoch 23/50\n",
      "\n",
      "Epoch 00023: val_loss improved from 1.86386 to 1.83717, saving model to model.h5\n",
      "180/180 - 10s - loss: 0.6404 - accuracy: 0.8510 - val_loss: 1.8372 - val_accuracy: 0.7004\n",
      "Epoch 24/50\n",
      "\n",
      "Epoch 00024: val_loss improved from 1.83717 to 1.83273, saving model to model.h5\n",
      "180/180 - 10s - loss: 0.5789 - accuracy: 0.8651 - val_loss: 1.8327 - val_accuracy: 0.7036\n",
      "Epoch 25/50\n",
      "\n",
      "Epoch 00025: val_loss did not improve from 1.83273\n",
      "180/180 - 9s - loss: 0.5208 - accuracy: 0.8784 - val_loss: 1.8444 - val_accuracy: 0.6996\n",
      "Epoch 26/50\n",
      "\n",
      "Epoch 00026: val_loss improved from 1.83273 to 1.82189, saving model to model.h5\n",
      "180/180 - 9s - loss: 0.4741 - accuracy: 0.8877 - val_loss: 1.8219 - val_accuracy: 0.7096\n",
      "Epoch 27/50\n",
      "\n",
      "Epoch 00027: val_loss improved from 1.82189 to 1.81860, saving model to model.h5\n",
      "180/180 - 9s - loss: 0.4285 - accuracy: 0.8987 - val_loss: 1.8186 - val_accuracy: 0.7104\n",
      "Epoch 28/50\n",
      "\n",
      "Epoch 00028: val_loss did not improve from 1.81860\n",
      "180/180 - 9s - loss: 0.3873 - accuracy: 0.9072 - val_loss: 1.8209 - val_accuracy: 0.7080\n",
      "Epoch 29/50\n",
      "\n",
      "Epoch 00029: val_loss did not improve from 1.81860\n",
      "180/180 - 9s - loss: 0.3509 - accuracy: 0.9161 - val_loss: 1.8227 - val_accuracy: 0.7170\n",
      "Epoch 30/50\n",
      "\n",
      "Epoch 00030: val_loss did not improve from 1.81860\n",
      "180/180 - 8s - loss: 0.3213 - accuracy: 0.9219 - val_loss: 1.8257 - val_accuracy: 0.7118\n",
      "Epoch 31/50\n",
      "\n",
      "Epoch 00031: val_loss did not improve from 1.81860\n",
      "180/180 - 8s - loss: 0.2916 - accuracy: 0.9283 - val_loss: 1.8261 - val_accuracy: 0.7162\n",
      "Epoch 32/50\n",
      "\n",
      "Epoch 00032: val_loss did not improve from 1.81860\n",
      "180/180 - 9s - loss: 0.2680 - accuracy: 0.9330 - val_loss: 1.8321 - val_accuracy: 0.7140\n",
      "Epoch 33/50\n",
      "\n",
      "Epoch 00033: val_loss improved from 1.81860 to 1.81764, saving model to model.h5\n",
      "180/180 - 9s - loss: 0.2465 - accuracy: 0.9373 - val_loss: 1.8176 - val_accuracy: 0.7188\n",
      "Epoch 34/50\n",
      "\n",
      "Epoch 00034: val_loss did not improve from 1.81764\n",
      "180/180 - 9s - loss: 0.2289 - accuracy: 0.9401 - val_loss: 1.8541 - val_accuracy: 0.7138\n",
      "Epoch 35/50\n",
      "\n",
      "Epoch 00035: val_loss did not improve from 1.81764\n",
      "180/180 - 9s - loss: 0.2119 - accuracy: 0.9430 - val_loss: 1.8478 - val_accuracy: 0.7174\n",
      "Epoch 36/50\n",
      "\n",
      "Epoch 00036: val_loss did not improve from 1.81764\n",
      "180/180 - 9s - loss: 0.1961 - accuracy: 0.9448 - val_loss: 1.8471 - val_accuracy: 0.7174\n",
      "Epoch 37/50\n",
      "\n",
      "Epoch 00037: val_loss did not improve from 1.81764\n",
      "180/180 - 9s - loss: 0.1825 - accuracy: 0.9465 - val_loss: 1.8575 - val_accuracy: 0.7198\n",
      "Epoch 38/50\n",
      "\n",
      "Epoch 00038: val_loss did not improve from 1.81764\n",
      "180/180 - 9s - loss: 0.1731 - accuracy: 0.9484 - val_loss: 1.8655 - val_accuracy: 0.7166\n",
      "Epoch 39/50\n",
      "\n",
      "Epoch 00039: val_loss did not improve from 1.81764\n",
      "180/180 - 8s - loss: 0.1640 - accuracy: 0.9494 - val_loss: 1.8780 - val_accuracy: 0.7152\n",
      "Epoch 40/50\n",
      "\n",
      "Epoch 00040: val_loss did not improve from 1.81764\n",
      "180/180 - 9s - loss: 0.1557 - accuracy: 0.9494 - val_loss: 1.8943 - val_accuracy: 0.7170\n",
      "Epoch 41/50\n",
      "\n",
      "Epoch 00041: val_loss did not improve from 1.81764\n",
      "180/180 - 9s - loss: 0.1482 - accuracy: 0.9497 - val_loss: 1.8904 - val_accuracy: 0.7154\n",
      "Epoch 42/50\n",
      "\n",
      "Epoch 00042: val_loss did not improve from 1.81764\n",
      "180/180 - 9s - loss: 0.1411 - accuracy: 0.9522 - val_loss: 1.8804 - val_accuracy: 0.7212\n",
      "Epoch 43/50\n",
      "\n",
      "Epoch 00043: val_loss did not improve from 1.81764\n",
      "180/180 - 9s - loss: 0.1354 - accuracy: 0.9526 - val_loss: 1.9009 - val_accuracy: 0.7194\n",
      "Epoch 44/50\n",
      "\n",
      "Epoch 00044: val_loss did not improve from 1.81764\n",
      "180/180 - 8s - loss: 0.1325 - accuracy: 0.9522 - val_loss: 1.9077 - val_accuracy: 0.7214\n",
      "Epoch 45/50\n",
      "\n",
      "Epoch 00045: val_loss did not improve from 1.81764\n",
      "180/180 - 9s - loss: 0.1284 - accuracy: 0.9512 - val_loss: 1.9248 - val_accuracy: 0.7174\n",
      "Epoch 46/50\n",
      "\n",
      "Epoch 00046: val_loss did not improve from 1.81764\n",
      "180/180 - 8s - loss: 0.1224 - accuracy: 0.9532 - val_loss: 1.9256 - val_accuracy: 0.7206\n",
      "Epoch 47/50\n",
      "\n",
      "Epoch 00047: val_loss did not improve from 1.81764\n",
      "180/180 - 8s - loss: 0.1201 - accuracy: 0.9523 - val_loss: 1.9409 - val_accuracy: 0.7238\n",
      "Epoch 48/50\n",
      "\n",
      "Epoch 00048: val_loss did not improve from 1.81764\n",
      "180/180 - 8s - loss: 0.1160 - accuracy: 0.9530 - val_loss: 1.9428 - val_accuracy: 0.7200\n",
      "Epoch 49/50\n",
      "\n",
      "Epoch 00049: val_loss did not improve from 1.81764\n",
      "180/180 - 9s - loss: 0.1121 - accuracy: 0.9538 - val_loss: 1.9529 - val_accuracy: 0.7188\n",
      "Epoch 50/50\n",
      "\n",
      "Epoch 00050: val_loss did not improve from 1.81764\n",
      "180/180 - 9s - loss: 0.1113 - accuracy: 0.9530 - val_loss: 1.9614 - val_accuracy: 0.7230\n"
     ]
    }
   ],
   "source": [
    "# load a clean dataset\n",
    "def load_clean_sentences(filename):\n",
    "    return load(open(filename, 'rb'))\n",
    " \n",
    "# fit a tokenizer\n",
    "def create_tokenizer(lines):\n",
    "    tokenizer = Tokenizer()\n",
    "    tokenizer.fit_on_texts(lines)\n",
    "    return tokenizer\n",
    " \n",
    "# max sentence length\n",
    "def max_length(lines):\n",
    "    return max(len(line.split()) for line in lines)\n",
    " \n",
    "# encode and pad sequences\n",
    "def encode_sequences(tokenizer, length, lines):\n",
    "    # integer encode sequences\n",
    "    X = tokenizer.texts_to_sequences(lines)\n",
    "    # pad sequences with 0 values\n",
    "    X = pad_sequences(X, maxlen=length, padding='post')\n",
    "    return X\n",
    " \n",
    "# one hot encode target sequence\n",
    "def encode_output(sequences, vocab_size):\n",
    "    ylist = list()\n",
    "    for sequence in sequences:\n",
    "        encoded = to_categorical(sequence, num_classes=vocab_size)\n",
    "        ylist.append(encoded)\n",
    "    y = array(ylist)\n",
    "    y = y.reshape(sequences.shape[0], sequences.shape[1], vocab_size)\n",
    "    return y\n",
    " \n",
    "# define NMT model\n",
    "def define_model(src_vocab, tar_vocab, src_timesteps, tar_timesteps, n_units):\n",
    "    model = Sequential()\n",
    "    model.add(Embedding(src_vocab, n_units, input_length=src_timesteps, mask_zero=True))\n",
    "    #core layer, encodes the input by indices \n",
    "    #If mask_zero is set to True, as a consequence, index 0 cannot be used in the vocabulary (input_dim should equal size of vocabulary + 1) per keras library.\n",
    "    model.add(LSTM(n_units))\n",
    "    #recurrent layer to choose different implementation to maximize performance \n",
    "    model.add(RepeatVector(tar_timesteps))\n",
    "    #reshaping layer to repeat the input by a specific amount of times \n",
    "    model.add(LSTM(n_units, return_sequences=True))\n",
    "     #recurrent layer to choose different implementation to maximize performance \n",
    "    model.add(TimeDistributed(Dense(tar_vocab, activation='softmax')))\n",
    "    #activation layer, wrapper to apply a layer to every temporal slice of an input \n",
    "    return model\n",
    " \n",
    "# load datasets\n",
    "dataset = load_clean_sentences('english-german-both.pkl')\n",
    "train = load_clean_sentences('english-german-train.pkl')\n",
    "test = load_clean_sentences('english-german-test.pkl')\n",
    " \n",
    "# prepare english tokenizer\n",
    "eng_tokenizer = create_tokenizer(dataset[:, 0])\n",
    "eng_vocab_size = len(eng_tokenizer.word_index) + 1\n",
    "eng_length = max_length(dataset[:, 0])\n",
    "print('English Vocabulary Size: %d' % eng_vocab_size)\n",
    "print('English Max Length: %d' % (eng_length))\n",
    "# prepare german tokenizer\n",
    "ger_tokenizer = create_tokenizer(dataset[:, 1])\n",
    "ger_vocab_size = len(ger_tokenizer.word_index) + 1\n",
    "ger_length = max_length(dataset[:, 1])\n",
    "print('German Vocabulary Size: %d' % ger_vocab_size)\n",
    "print('German Max Length: %d' % (ger_length))\n",
    " \n",
    "# prepare training data\n",
    "trainX = encode_sequences(ger_tokenizer, ger_length, train[:, 1])\n",
    "trainY = encode_sequences(eng_tokenizer, eng_length, train[:, 0])\n",
    "trainY = encode_output(trainY, eng_vocab_size)\n",
    "# prepare validation data\n",
    "testX = encode_sequences(ger_tokenizer, ger_length, test[:, 1])\n",
    "testY = encode_sequences(eng_tokenizer, eng_length, test[:, 0])\n",
    "testY = encode_output(testY, eng_vocab_size)\n",
    " \n",
    "# define model\n",
    "model = define_model(ger_vocab_size, eng_vocab_size, ger_length, eng_length, 256)\n",
    "model.compile(optimizer='adam', loss='categorical_crossentropy', metrics=[\"accuracy\"])\n",
    "# summarize defined model\n",
    "print(model.summary())\n",
    "#plot_model(model, to_file='model.png', show_shapes=True)\n",
    "\n",
    "# fit model\n",
    "filename = 'model.h5'\n",
    "checkpoint = ModelCheckpoint(filename, monitor='val_loss', verbose=1, save_best_only=True, mode='min')\n",
    "history2 = model.fit(trainX, trainY, epochs=50, batch_size=50, validation_data=(testX, testY), callbacks=[checkpoint], verbose=2)"
   ]
  },
  {
   "cell_type": "code",
   "execution_count": 98,
   "metadata": {},
   "outputs": [
    {
     "data": {
      "text/plain": [
       "[0.0913555771112442, 0.9636889100074768]"
      ]
     },
     "execution_count": 98,
     "metadata": {},
     "output_type": "execute_result"
    }
   ],
   "source": [
    "results = model.evaluate(trainX, trainY, verbose=0)\n",
    "results"
   ]
  },
  {
   "cell_type": "markdown",
   "metadata": {},
   "source": [
    "* Best accuracy overall!"
   ]
  },
  {
   "cell_type": "markdown",
   "metadata": {},
   "source": [
    "### Evaluate Neural Translation Model"
   ]
  },
  {
   "cell_type": "code",
   "execution_count": 99,
   "metadata": {},
   "outputs": [],
   "source": [
    "# load datasets\n",
    "dataset = load_clean_sentences('english-german-both.pkl')\n",
    "train = load_clean_sentences('english-german-train.pkl')\n",
    "test = load_clean_sentences('english-german-test.pkl')"
   ]
  },
  {
   "cell_type": "code",
   "execution_count": 100,
   "metadata": {},
   "outputs": [],
   "source": [
    "# prepare english tokenizer\n",
    "eng_tokenizer = create_tokenizer(dataset[:, 0])\n",
    "eng_vocab_size = len(eng_tokenizer.word_index) + 1\n",
    "eng_length = max_length(dataset[:, 0])"
   ]
  },
  {
   "cell_type": "code",
   "execution_count": 101,
   "metadata": {},
   "outputs": [],
   "source": [
    "# prepare german tokenizer\n",
    "ger_tokenizer = create_tokenizer(dataset[:, 1])\n",
    "ger_vocab_size = len(ger_tokenizer.word_index) + 1\n",
    "ger_length = max_length(dataset[:, 1])"
   ]
  },
  {
   "cell_type": "code",
   "execution_count": 102,
   "metadata": {},
   "outputs": [],
   "source": [
    "# prepare data\n",
    "trainX = encode_sequences(ger_tokenizer, ger_length, train[:, 1])\n",
    "testX = encode_sequences(ger_tokenizer, ger_length, test[:, 1])"
   ]
  },
  {
   "cell_type": "markdown",
   "metadata": {},
   "source": [
    "### Save my NN model to YAML"
   ]
  },
  {
   "cell_type": "code",
   "execution_count": 103,
   "metadata": {},
   "outputs": [],
   "source": [
    "#code help from https://towardsdatascience.com/saving-and-loading-keras-model-42195b92f57a"
   ]
  },
  {
   "cell_type": "code",
   "execution_count": 104,
   "metadata": {},
   "outputs": [],
   "source": [
    "from keras.models import model_from_yaml\n",
    "import os"
   ]
  },
  {
   "cell_type": "code",
   "execution_count": 105,
   "metadata": {},
   "outputs": [],
   "source": [
    "# serialize model to YAML\n",
    "model_yaml = model.to_yaml()\n",
    "with open(\"model.yaml\", \"w\") as yaml_file:\n",
    "    yaml_file.write(model_yaml)"
   ]
  },
  {
   "cell_type": "code",
   "execution_count": 106,
   "metadata": {},
   "outputs": [
    {
     "name": "stdout",
     "output_type": "stream",
     "text": [
      "Saved model to disk\n"
     ]
    }
   ],
   "source": [
    "# serialize weights to HDF5\n",
    "model.save_weights(\"model.h5\")\n",
    "print(\"Saved model to disk\")"
   ]
  },
  {
   "cell_type": "code",
   "execution_count": 107,
   "metadata": {},
   "outputs": [],
   "source": [
    "# load YAML and create model\n",
    "yaml_file = open('model.yaml', 'r')\n",
    "loaded_model_yaml = yaml_file.read()\n",
    "yaml_file.close()\n",
    "loaded_model = model_from_yaml(loaded_model_yaml)"
   ]
  },
  {
   "cell_type": "code",
   "execution_count": 108,
   "metadata": {},
   "outputs": [
    {
     "name": "stdout",
     "output_type": "stream",
     "text": [
      "Loaded model from disk\n"
     ]
    }
   ],
   "source": [
    "# load weights into new model\n",
    "loaded_model.load_weights(\"model.h5\")\n",
    "print(\"Loaded model from disk\")"
   ]
  },
  {
   "cell_type": "code",
   "execution_count": 109,
   "metadata": {},
   "outputs": [
    {
     "name": "stdout",
     "output_type": "stream",
     "text": [
      "accuracy: 96.37%\n"
     ]
    }
   ],
   "source": [
    "# evaluate loaded model on test data\n",
    "loaded_model.compile(loss='binary_crossentropy', optimizer='rmsprop', metrics=['accuracy'])\n",
    "score = loaded_model.evaluate(trainX, trainY, verbose=0)\n",
    "print(\"%s: %.2f%%\" % (loaded_model.metrics_names[1], score[1]*100))"
   ]
  },
  {
   "cell_type": "code",
   "execution_count": 110,
   "metadata": {},
   "outputs": [
    {
     "name": "stdout",
     "output_type": "stream",
     "text": [
      "Saved model to disk\n"
     ]
    }
   ],
   "source": [
    "# save model and architecture to single file\n",
    "model.save(\"model.h5\")\n",
    "print(\"Saved model to disk\")"
   ]
  },
  {
   "cell_type": "code",
   "execution_count": 111,
   "metadata": {},
   "outputs": [],
   "source": [
    "# load model\n",
    "model = load_model('model.h5')"
   ]
  },
  {
   "cell_type": "code",
   "execution_count": 112,
   "metadata": {},
   "outputs": [],
   "source": [
    "#Next repeat this for each source phrase in a dataset and \n",
    "#-> compare the predicted result to the expected target phrase in English."
   ]
  },
  {
   "cell_type": "code",
   "execution_count": 113,
   "metadata": {},
   "outputs": [],
   "source": [
    "#code help from #https://www.analyticsvidhya.com/blog/2019/01/neural-machine-translation-keras/"
   ]
  },
  {
   "cell_type": "code",
   "execution_count": 114,
   "metadata": {},
   "outputs": [
    {
     "name": "stdout",
     "output_type": "stream",
     "text": [
      "train\n",
      "src=[ich bin ungeduldig], target=[im impatient], predicted=[im impatient]\n",
      "src=[wie seltsam], target=[how strange], predicted=[how strange]\n",
      "src=[ich bin nicht schuchtern], target=[im not shy], predicted=[im not shy]\n",
      "src=[ich brauche eine jacke], target=[i need a coat], predicted=[i need a coat]\n",
      "src=[ich habe tom getroffen], target=[i met tom], predicted=[ive seen tom]\n",
      "src=[ich habe tom verachtet], target=[i despised tom], predicted=[i despised tom]\n",
      "src=[wir sind sauber], target=[were clean], predicted=[were clean]\n",
      "src=[tom wurde gefeuert], target=[tom got fired], predicted=[tom was fired]\n",
      "src=[konnen sie mir folgen], target=[do you follow], predicted=[do you follow]\n",
      "src=[entlassen wir tom], target=[lets fire tom], predicted=[lets fire tom]\n",
      "BLEU-1: 0.945465\n",
      "BLEU-2: 0.927995\n",
      "BLEU-3: 0.841743\n",
      "BLEU-4: 0.513061\n",
      "test\n",
      "src=[das ist nicht okay], target=[thats not ok], predicted=[thats not ok]\n",
      "src=[das ist besser], target=[this is better], predicted=[thats better]\n",
      "src=[ich ergebe mich], target=[i surrender], predicted=[i fell me]\n",
      "src=[offne es bitte], target=[please open it], predicted=[please stop]\n",
      "src=[du hast mir gefehlt], target=[i missed you], predicted=[we know you]\n",
      "src=[mach dich fort], target=[go away], predicted=[beat away]\n",
      "src=[ist es ein geheimnis], target=[is it a secret], predicted=[is is is]\n",
      "src=[es ist nicht gut], target=[it isnt good], predicted=[its not good]\n",
      "src=[ich rannte nach drauen], target=[i ran outside], predicted=[i fired out]\n",
      "src=[es wird schlimmer], target=[it gets worse], predicted=[it gets worse]\n",
      "BLEU-1: 0.578846\n",
      "BLEU-2: 0.461705\n",
      "BLEU-3: 0.376376\n",
      "BLEU-4: 0.181873\n"
     ]
    }
   ],
   "source": [
    "# load a clean dataset\n",
    "def load_clean_sentences(filename):\n",
    "    return load(open(filename, 'rb'))\n",
    "\n",
    "# fit a tokenizer\n",
    "def create_tokenizer(lines):\n",
    "    tokenizer = Tokenizer()\n",
    "    tokenizer.fit_on_texts(lines)\n",
    "    return tokenizer\n",
    " \n",
    "# max sentence length\n",
    "def max_length(lines):\n",
    "    return max(len(line.split()) for line in lines)\n",
    " \n",
    "# encode and pad sequences\n",
    "def encode_sequences(tokenizer, length, lines):\n",
    "    # integer encode sequences\n",
    "    X = tokenizer.texts_to_sequences(lines)\n",
    "    # pad sequences with 0 values\n",
    "    X = pad_sequences(X, maxlen=length, padding='post')\n",
    "    return X\n",
    " \n",
    "# map an integer to a word\n",
    "def word_for_id(integer, tokenizer):\n",
    "    for word, index in tokenizer.word_index.items():\n",
    "        if index == integer:\n",
    "            return word\n",
    "    return None\n",
    " \n",
    "# generate target given source sequence\n",
    "def predict_sequence(model, tokenizer, source):\n",
    "    prediction = model.predict(source, verbose=0)[0]\n",
    "    integers = [argmax(vector) for vector in prediction]\n",
    "    target = list()\n",
    "    for i in integers:\n",
    "        word = word_for_id(i, tokenizer)\n",
    "        if word is None:\n",
    "            break\n",
    "        target.append(word)\n",
    "    return ' '.join(target)\n",
    " \n",
    "# evaluate the skill of the model\n",
    "def evaluate_model(model, tokenizer, sources, raw_dataset):\n",
    "    actual, predicted = list(), list()\n",
    "    for i, source in enumerate(sources):\n",
    "        # translate encoded source text\n",
    "        source = source.reshape((1, source.shape[0]))\n",
    "        translation = predict_sequence(model, eng_tokenizer, source)\n",
    "        raw_target, raw_src = raw_dataset[i]\n",
    "        if i < 10:\n",
    "            print('src=[%s], target=[%s], predicted=[%s]' % (raw_src, raw_target, translation))\n",
    "        actual.append([raw_target.split()])\n",
    "        predicted.append(translation.split())\n",
    "    # calculate BLEU score\n",
    "    print('BLEU-1: %f' % corpus_bleu(actual, predicted, weights=(1.0, 0, 0, 0)))\n",
    "    print('BLEU-2: %f' % corpus_bleu(actual, predicted, weights=(0.5, 0.5, 0, 0)))\n",
    "    print('BLEU-3: %f' % corpus_bleu(actual, predicted, weights=(0.3, 0.3, 0.3, 0)))\n",
    "    print('BLEU-4: %f' % corpus_bleu(actual, predicted, weights=(0.25, 0.25, 0.25, 0.25)))\n",
    " \n",
    "# load datasets\n",
    "dataset = load_clean_sentences('english-german-both.pkl')\n",
    "train = load_clean_sentences('english-german-train.pkl')\n",
    "test = load_clean_sentences('english-german-test.pkl')\n",
    "# prepare english tokenizer\n",
    "eng_tokenizer = create_tokenizer(dataset[:, 0])\n",
    "eng_vocab_size = len(eng_tokenizer.word_index) + 1\n",
    "eng_length = max_length(dataset[:, 0])\n",
    "# prepare german tokenizer\n",
    "ger_tokenizer = create_tokenizer(dataset[:, 1])\n",
    "ger_vocab_size = len(ger_tokenizer.word_index) + 1\n",
    "ger_length = max_length(dataset[:, 1])\n",
    "# prepare data\n",
    "trainX = encode_sequences(ger_tokenizer, ger_length, train[:, 1])\n",
    "testX = encode_sequences(ger_tokenizer, ger_length, test[:, 1])\n",
    " \n",
    "# load model\n",
    "model = load_model('model.h5')\n",
    "# test on some training sequences\n",
    "print('train')\n",
    "evaluate_model(model, eng_tokenizer, trainX, train)\n",
    "# test on some test sequences\n",
    "print('test')\n",
    "evaluate_model(model, eng_tokenizer, testX, test)"
   ]
  },
  {
   "cell_type": "markdown",
   "metadata": {},
   "source": [
    "### Make Predictions on unseen data"
   ]
  },
  {
   "cell_type": "code",
   "execution_count": 115,
   "metadata": {},
   "outputs": [],
   "source": [
    "#code help from https://stackabuse.com/python-for-nlp-neural-machine-translation-with-seq2seq-in-keras/"
   ]
  },
  {
   "cell_type": "code",
   "execution_count": 116,
   "metadata": {},
   "outputs": [
    {
     "name": "stdout",
     "output_type": "stream",
     "text": [
      "WARNING:tensorflow:From <ipython-input-116-193c8672be89>:2: Sequential.predict_classes (from tensorflow.python.keras.engine.sequential) is deprecated and will be removed after 2021-01-01.\n",
      "Instructions for updating:\n",
      "Please use instead:* `np.argmax(model.predict(x), axis=-1)`,   if your model does multi-class classification   (e.g. if it uses a `softmax` last-layer activation).* `(model.predict(x) > 0.5).astype(\"int32\")`,   if your model does binary classification   (e.g. if it uses a `sigmoid` last-layer activation).\n"
     ]
    }
   ],
   "source": [
    "model = load_model('model.h5')\n",
    "preds = model.predict_classes(testX.reshape((testX.shape[0],testX.shape[1])))"
   ]
  },
  {
   "cell_type": "code",
   "execution_count": 117,
   "metadata": {},
   "outputs": [],
   "source": [
    "def get_word(n, tokenizer):\n",
    "    for word, index in tokenizer.word_index.items():\n",
    "        if index == n:\n",
    "            return word\n",
    "    return None"
   ]
  },
  {
   "cell_type": "code",
   "execution_count": 118,
   "metadata": {},
   "outputs": [],
   "source": [
    "# convert predictions into text (English)\n",
    "preds_text = []\n",
    "for i in preds:\n",
    "    temp = []\n",
    "    for j in range(len(i)):\n",
    "        t = get_word(i[j], eng_tokenizer)\n",
    "        if j > 0:\n",
    "            if (t == get_word(i[j-1], eng_tokenizer)) or (t == None):\n",
    "                temp.append('')\n",
    "            else:\n",
    "                temp.append(t)\n",
    "             \n",
    "        else:\n",
    "            if(t == None):\n",
    "                temp.append('')\n",
    "            else:\n",
    "                temp.append(t)            \n",
    "        \n",
    "    preds_text.append(' '.join(temp))"
   ]
  },
  {
   "cell_type": "code",
   "execution_count": 119,
   "metadata": {},
   "outputs": [],
   "source": [
    "pred_df = pd.DataFrame({'actual' : test[:,0], 'predicted' : preds_text})"
   ]
  },
  {
   "cell_type": "code",
   "execution_count": 120,
   "metadata": {},
   "outputs": [],
   "source": [
    "pd.set_option('display.max_colwidth', 200)"
   ]
  },
  {
   "cell_type": "code",
   "execution_count": 121,
   "metadata": {},
   "outputs": [
    {
     "data": {
      "text/html": [
       "<div>\n",
       "<style scoped>\n",
       "    .dataframe tbody tr th:only-of-type {\n",
       "        vertical-align: middle;\n",
       "    }\n",
       "\n",
       "    .dataframe tbody tr th {\n",
       "        vertical-align: top;\n",
       "    }\n",
       "\n",
       "    .dataframe thead th {\n",
       "        text-align: right;\n",
       "    }\n",
       "</style>\n",
       "<table border=\"1\" class=\"dataframe\">\n",
       "  <thead>\n",
       "    <tr style=\"text-align: right;\">\n",
       "      <th></th>\n",
       "      <th>actual</th>\n",
       "      <th>predicted</th>\n",
       "    </tr>\n",
       "  </thead>\n",
       "  <tbody>\n",
       "    <tr>\n",
       "      <th>0</th>\n",
       "      <td>thats not ok</td>\n",
       "      <td>thats not ok</td>\n",
       "    </tr>\n",
       "    <tr>\n",
       "      <th>1</th>\n",
       "      <td>this is better</td>\n",
       "      <td>thats better</td>\n",
       "    </tr>\n",
       "    <tr>\n",
       "      <th>2</th>\n",
       "      <td>i surrender</td>\n",
       "      <td>i fell me</td>\n",
       "    </tr>\n",
       "    <tr>\n",
       "      <th>3</th>\n",
       "      <td>please open it</td>\n",
       "      <td>please stop</td>\n",
       "    </tr>\n",
       "    <tr>\n",
       "      <th>4</th>\n",
       "      <td>i missed you</td>\n",
       "      <td>we know you</td>\n",
       "    </tr>\n",
       "    <tr>\n",
       "      <th>5</th>\n",
       "      <td>go away</td>\n",
       "      <td>beat away</td>\n",
       "    </tr>\n",
       "    <tr>\n",
       "      <th>6</th>\n",
       "      <td>is it a secret</td>\n",
       "      <td>is</td>\n",
       "    </tr>\n",
       "    <tr>\n",
       "      <th>7</th>\n",
       "      <td>it isnt good</td>\n",
       "      <td>its not good</td>\n",
       "    </tr>\n",
       "    <tr>\n",
       "      <th>8</th>\n",
       "      <td>i ran outside</td>\n",
       "      <td>i fired out</td>\n",
       "    </tr>\n",
       "    <tr>\n",
       "      <th>9</th>\n",
       "      <td>it gets worse</td>\n",
       "      <td>it gets worse</td>\n",
       "    </tr>\n",
       "    <tr>\n",
       "      <th>10</th>\n",
       "      <td>tom tried</td>\n",
       "      <td>tom tried</td>\n",
       "    </tr>\n",
       "    <tr>\n",
       "      <th>11</th>\n",
       "      <td>said who</td>\n",
       "      <td>who says that</td>\n",
       "    </tr>\n",
       "    <tr>\n",
       "      <th>12</th>\n",
       "      <td>who died</td>\n",
       "      <td>who sorry</td>\n",
       "    </tr>\n",
       "    <tr>\n",
       "      <th>13</th>\n",
       "      <td>hey wait up</td>\n",
       "      <td>hey wait up</td>\n",
       "    </tr>\n",
       "    <tr>\n",
       "      <th>14</th>\n",
       "      <td>im here too</td>\n",
       "      <td>im too</td>\n",
       "    </tr>\n",
       "  </tbody>\n",
       "</table>\n",
       "</div>"
      ],
      "text/plain": [
       "            actual        predicted\n",
       "0     thats not ok   thats not ok  \n",
       "1   this is better  thats better   \n",
       "2      i surrender      i fell me  \n",
       "3   please open it   please stop   \n",
       "4     i missed you    we know you  \n",
       "5          go away     beat away   \n",
       "6   is it a secret           is    \n",
       "7     it isnt good   its not good  \n",
       "8    i ran outside    i fired out  \n",
       "9    it gets worse  it gets worse  \n",
       "10       tom tried     tom tried   \n",
       "11        said who  who says that  \n",
       "12        who died     who sorry   \n",
       "13     hey wait up    hey wait up  \n",
       "14     im here too        im too   "
      ]
     },
     "execution_count": 121,
     "metadata": {},
     "output_type": "execute_result"
    }
   ],
   "source": [
    "pred_df.head(15)"
   ]
  },
  {
   "cell_type": "code",
   "execution_count": 122,
   "metadata": {},
   "outputs": [
    {
     "data": {
      "text/html": [
       "<div>\n",
       "<style scoped>\n",
       "    .dataframe tbody tr th:only-of-type {\n",
       "        vertical-align: middle;\n",
       "    }\n",
       "\n",
       "    .dataframe tbody tr th {\n",
       "        vertical-align: top;\n",
       "    }\n",
       "\n",
       "    .dataframe thead th {\n",
       "        text-align: right;\n",
       "    }\n",
       "</style>\n",
       "<table border=\"1\" class=\"dataframe\">\n",
       "  <thead>\n",
       "    <tr style=\"text-align: right;\">\n",
       "      <th></th>\n",
       "      <th>actual</th>\n",
       "      <th>predicted</th>\n",
       "    </tr>\n",
       "  </thead>\n",
       "  <tbody>\n",
       "    <tr>\n",
       "      <th>469</th>\n",
       "      <td>are you alone</td>\n",
       "      <td>are you lonely</td>\n",
       "    </tr>\n",
       "    <tr>\n",
       "      <th>933</th>\n",
       "      <td>tom is special</td>\n",
       "      <td>tom is</td>\n",
       "    </tr>\n",
       "    <tr>\n",
       "      <th>405</th>\n",
       "      <td>keep singing</td>\n",
       "      <td>go on</td>\n",
       "    </tr>\n",
       "    <tr>\n",
       "      <th>459</th>\n",
       "      <td>he was lucky</td>\n",
       "      <td>he was lucky</td>\n",
       "    </tr>\n",
       "    <tr>\n",
       "      <th>406</th>\n",
       "      <td>take my car</td>\n",
       "      <td>no my car</td>\n",
       "    </tr>\n",
       "    <tr>\n",
       "      <th>510</th>\n",
       "      <td>get on in here</td>\n",
       "      <td>come  inside</td>\n",
       "    </tr>\n",
       "    <tr>\n",
       "      <th>714</th>\n",
       "      <td>tom sent me</td>\n",
       "      <td>tom beat me</td>\n",
       "    </tr>\n",
       "    <tr>\n",
       "      <th>557</th>\n",
       "      <td>well survive</td>\n",
       "      <td>well will</td>\n",
       "    </tr>\n",
       "    <tr>\n",
       "      <th>250</th>\n",
       "      <td>dont panic</td>\n",
       "      <td>dont hurt</td>\n",
       "    </tr>\n",
       "    <tr>\n",
       "      <th>396</th>\n",
       "      <td>it happened</td>\n",
       "      <td>its happened</td>\n",
       "    </tr>\n",
       "    <tr>\n",
       "      <th>902</th>\n",
       "      <td>he resigned</td>\n",
       "      <td>he quit</td>\n",
       "    </tr>\n",
       "    <tr>\n",
       "      <th>937</th>\n",
       "      <td>hes in pain</td>\n",
       "      <td>he is in</td>\n",
       "    </tr>\n",
       "    <tr>\n",
       "      <th>561</th>\n",
       "      <td>are you bored</td>\n",
       "      <td>take yourself</td>\n",
       "    </tr>\n",
       "    <tr>\n",
       "      <th>455</th>\n",
       "      <td>go home</td>\n",
       "      <td>go on home</td>\n",
       "    </tr>\n",
       "    <tr>\n",
       "      <th>125</th>\n",
       "      <td>tom cheated</td>\n",
       "      <td>tom cheated</td>\n",
       "    </tr>\n",
       "  </tbody>\n",
       "</table>\n",
       "</div>"
      ],
      "text/plain": [
       "             actual         predicted\n",
       "469   are you alone  are you lonely  \n",
       "933  tom is special         tom is   \n",
       "405    keep singing          go on   \n",
       "459    he was lucky    he was lucky  \n",
       "406     take my car       no my car  \n",
       "510  get on in here    come  inside  \n",
       "714     tom sent me     tom beat me  \n",
       "557    well survive      well will   \n",
       "250      dont panic      dont hurt   \n",
       "396     it happened   its happened   \n",
       "902     he resigned        he quit   \n",
       "937     hes in pain        he is in  \n",
       "561   are you bored  take yourself   \n",
       "455         go home      go on home  \n",
       "125     tom cheated    tom cheated   "
      ]
     },
     "execution_count": 122,
     "metadata": {},
     "output_type": "execute_result"
    }
   ],
   "source": [
    "pred_df.sample(15)"
   ]
  },
  {
   "cell_type": "code",
   "execution_count": null,
   "metadata": {},
   "outputs": [],
   "source": []
  },
  {
   "cell_type": "code",
   "execution_count": null,
   "metadata": {},
   "outputs": [],
   "source": []
  }
 ],
 "metadata": {
  "kernelspec": {
   "display_name": "Python 3",
   "language": "python",
   "name": "python3"
  },
  "language_info": {
   "codemirror_mode": {
    "name": "ipython",
    "version": 3
   },
   "file_extension": ".py",
   "mimetype": "text/x-python",
   "name": "python",
   "nbconvert_exporter": "python",
   "pygments_lexer": "ipython3",
   "version": "3.8.3"
  }
 },
 "nbformat": 4,
 "nbformat_minor": 4
}
